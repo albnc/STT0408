{
 "cells": [
  {
   "cell_type": "markdown",
   "metadata": {
    "slideshow": {
     "slide_type": "slide"
    }
   },
   "source": [
    "# Mecânica de Locomoção \n",
    "# *Veículos Ferroviários*\n",
    "---\n",
    "*prof. André Luiz Cunha*"
   ]
  },
  {
   "cell_type": "markdown",
   "metadata": {},
   "source": [
    "# Codificação"
   ]
  },
  {
   "cell_type": "code",
   "execution_count": 2,
   "metadata": {},
   "outputs": [],
   "source": [
    "import matplotlib.pyplot as plt\n",
    "import altair as alt\n",
    "from pandas import DataFrame"
   ]
  },
  {
   "cell_type": "markdown",
   "metadata": {},
   "source": [
    "## Força Tratora"
   ]
  },
  {
   "cell_type": "code",
   "execution_count": 3,
   "metadata": {},
   "outputs": [],
   "source": [
    "# Traction force funtion\n",
    "def Ft(P, V, unit='kW', n=0.81):\n",
    "    '''Ft in kN'''\n",
    "    k = 3600\n",
    "    if unit == 'hp':\n",
    "        k = 2685\n",
    "    if unit == 'cv':\n",
    "        k = 2649\n",
    "    return (n * k * P)/ (V * 1000) #kN\n"
   ]
  },
  {
   "cell_type": "code",
   "execution_count": 4,
   "metadata": {},
   "outputs": [],
   "source": [
    "# Maximum Traction force funtion\n",
    "def Ftmax(Td, f=0.30):\n",
    "    '''Td in kN'''\n",
    "    return (Td * f) # kN"
   ]
  },
  {
   "cell_type": "markdown",
   "metadata": {},
   "source": [
    "## Resistências ao Movimento"
   ]
  },
  {
   "cell_type": "code",
   "execution_count": 5,
   "metadata": {},
   "outputs": [],
   "source": [
    "'''Funções de Resistencia ao movimento'''\n",
    "# Rolamento\n",
    "def Rr(x, G, V, tipo='locomotiva'):\n",
    "    c1 = 0.65\n",
    "    c2 = 125\n",
    "    if tipo=='carga':\n",
    "        c3 = 0.013\n",
    "    else:\n",
    "        c3 = 0.009\n",
    "        \n",
    "    return (c1 + (c2 * x)/G + c3 * V) * G / 1000 # [kN]\n",
    "\n",
    "def Ra(A, V, tipo='locomotiva'):\n",
    "    if tipo=='locomotiva passageiro':\n",
    "        ca = 0.031\n",
    "    elif tipo == 'carga':\n",
    "        ca = 0.009\n",
    "    elif tipo == 'passageiro':\n",
    "        ca = 0.006\n",
    "    else:\n",
    "        ca = 0.046\n",
    "    return ca * A * V * V / 1000 # [kN]\n",
    "\n",
    "def Rg(G, i):\n",
    "    if i:\n",
    "        return 10 * G * i / 1000 # [kN]\n",
    "    return 0\n",
    "\n",
    "def Rc(G, r):\n",
    "    if r:\n",
    "        return ((698 * G)/r)/1000 # [kN] \n",
    "    return 0"
   ]
  },
  {
   "cell_type": "markdown",
   "metadata": {},
   "source": [
    "---\n",
    "# Exemplo"
   ]
  },
  {
   "cell_type": "markdown",
   "metadata": {},
   "source": [
    "Um trem de carga é composto por __**2 locomotivas diesel-elétrica e 40 vagões graneleiros**__.\n",
    "\n",
    "|Locomotiva Diesel-elétrica | Vagão Hopper fechado |\n",
    "| :---: | :----: |\n",
    "| <img src=\"http://www.oocities.org/estrada_de_ferro/f-u26c-406.jpg\" alt=\"Locomotiva Diesel-elétrica\" width=\"400\"> | <img src=\"http://www.boqnews.com/wp-content/uploads/2017/06/rumo-logistica.jpg\" alt=\"Vagão Hopper fechado\" width=\"400\"> |\n",
    "\n",
    "### Locomotiva\n",
    "A locomotiva tem 6 eixos, todos motrizes; seção transversal de 11,5 m²; velocidade mínima de operação contínua (VMOC) de 18 km/h; velocidade máxima de 110 km/h; e eficiência de transmissão $\\eta$ = 0,82. Adote o fator de aderência $f$ = 0,30.\n",
    "\n",
    "Sabendo que $XYZ$ são os três últimos dígitos do número USP, o peso da locomotiva (em kN) é dado por: \n",
    "$$G_{loco} = 1300 - 300 \\cdot e^{-0,0015 \\cdot XYZ}$$\n",
    "\n",
    "E a potência nominal (em hp) da locomotiva é: \n",
    "$$P = 3800 - 600 \\cdot e^{-0,XYZ}$$\n",
    "\n",
    "### Vagões de carga\n",
    "Os vagões para transporte de grãos têm 4 eixos, seção transversal de 8,5 m² e, quando carregados, o peso bruto total (em kN) pode ser estimado por:\n",
    "$$G_{vagao} = 700 + 300 \\cdot e^{-0,0XYZ}$$\n",
    "\n",
    "### Perfil do Trecho\n",
    "\n",
    "O perfil vertical do trecho percorrido pela composição é dado a seguir:\n",
    "\n",
    "<img src=\".\\_imgs\\lista1-trecho.png\" alt=\"Forças Atuantes\" width=\"800\">\n"
   ]
  },
  {
   "cell_type": "code",
   "execution_count": 15,
   "metadata": {},
   "outputs": [],
   "source": [
    "'''Locomotive'''\n",
    "nL = 2\n",
    "xL = 6 #eixos\n",
    "AL = 11.5 #m²\n",
    "GL = 1300 #kN\n",
    "P = 3800 #hp\n",
    "efic = 0.82\n",
    "Vmax = 110 #km/h\n",
    "Vmoc = 18 #km/h\n",
    "fad = 0.3\n",
    "\n",
    "'''Carboose'''\n",
    "nV = 40\n",
    "xV = 4\n",
    "AV = 8.5 #m²\n",
    "GV = 1000 #kN\n",
    "\n",
    "'''Profile'''\n",
    "iList = [0, 0.012, -0.003, 0.003, -0.012] #%\n",
    "r = 0 #m"
   ]
  },
  {
   "cell_type": "code",
   "execution_count": 29,
   "metadata": {},
   "outputs": [],
   "source": [
    "# list of speeds\n",
    "Vlist = list(range(1,Vmax))\n",
    "F = []\n",
    "R = []\n",
    "I = []\n",
    "V = []\n",
    "\n",
    "for i in iList:\n",
    "    for v in Vlist:\n",
    "        V.append(v)\n",
    "        F.append( min(Ft(P,v,'hp',efic), Ftmax(GL*nL, fad)) )\n",
    "        RL = Rr(xL, GL, v, 'locomotiva') + Ra(AL, v, 'locomotiva') + Rg(GL, i) + Rc(GL, r)\n",
    "        RV = Rr(xV, GV, v, 'carga') + Ra(AV, v, 'carga') + Rg(GV, i) + Rc(GV, r)\n",
    "        R.append(nL * RL + nV * RV)\n",
    "        I.append(str(i)+'%')"
   ]
  },
  {
   "cell_type": "code",
   "execution_count": 32,
   "metadata": {},
   "outputs": [],
   "source": [
    "data = DataFrame({'Velocidade': V,\n",
    "                'Ft': F,\n",
    "                'Rt': R,\n",
    "                'greide': I})"
   ]
  },
  {
   "cell_type": "code",
   "execution_count": 35,
   "metadata": {},
   "outputs": [
    {
     "data": {
      "application/vnd.vegalite.v2+json": {
       "$schema": "https://vega.github.io/schema/vega-lite/v2.6.0.json",
       "config": {
        "view": {
         "height": 300,
         "width": 400
        }
       },
       "data": {
        "name": "data-0d7b234975e02e6c38ad48051f200d0f"
       },
       "datasets": {
        "data-0d7b234975e02e6c38ad48051f200d0f": [
         {
          "Ft": 780,
          "Rt": 49.737517999999994,
          "Velocidade": 1,
          "greide": "0%"
         },
         {
          "Ft": 780,
          "Rt": 50.293271999999995,
          "Velocidade": 2,
          "greide": "0%"
         },
         {
          "Ft": 780,
          "Rt": 50.857262,
          "Velocidade": 3,
          "greide": "0%"
         },
         {
          "Ft": 780,
          "Rt": 51.42948799999999,
          "Velocidade": 4,
          "greide": "0%"
         },
         {
          "Ft": 780,
          "Rt": 52.00994999999999,
          "Velocidade": 5,
          "greide": "0%"
         },
         {
          "Ft": 780,
          "Rt": 52.598648,
          "Velocidade": 6,
          "greide": "0%"
         },
         {
          "Ft": 780,
          "Rt": 53.195581999999995,
          "Velocidade": 7,
          "greide": "0%"
         },
         {
          "Ft": 780,
          "Rt": 53.800752,
          "Velocidade": 8,
          "greide": "0%"
         },
         {
          "Ft": 780,
          "Rt": 54.41415799999999,
          "Velocidade": 9,
          "greide": "0%"
         },
         {
          "Ft": 780,
          "Rt": 55.03579999999999,
          "Velocidade": 10,
          "greide": "0%"
         },
         {
          "Ft": 760.5872727272726,
          "Rt": 55.665678,
          "Velocidade": 11,
          "greide": "0%"
         },
         {
          "Ft": 697.2049999999999,
          "Rt": 56.30379199999999,
          "Velocidade": 12,
          "greide": "0%"
         },
         {
          "Ft": 643.573846153846,
          "Rt": 56.950142,
          "Velocidade": 13,
          "greide": "0%"
         },
         {
          "Ft": 597.6042857142857,
          "Rt": 57.60472799999999,
          "Velocidade": 14,
          "greide": "0%"
         },
         {
          "Ft": 557.7639999999999,
          "Rt": 58.26755,
          "Velocidade": 15,
          "greide": "0%"
         },
         {
          "Ft": 522.90375,
          "Rt": 58.938607999999995,
          "Velocidade": 16,
          "greide": "0%"
         },
         {
          "Ft": 492.14470588235287,
          "Rt": 59.61790200000001,
          "Velocidade": 17,
          "greide": "0%"
         },
         {
          "Ft": 464.8033333333333,
          "Rt": 60.305431999999996,
          "Velocidade": 18,
          "greide": "0%"
         },
         {
          "Ft": 440.34,
          "Rt": 61.00119799999999,
          "Velocidade": 19,
          "greide": "0%"
         },
         {
          "Ft": 418.323,
          "Rt": 61.7052,
          "Velocidade": 20,
          "greide": "0%"
         },
         {
          "Ft": 398.4028571428571,
          "Rt": 62.417438,
          "Velocidade": 21,
          "greide": "0%"
         },
         {
          "Ft": 380.2936363636363,
          "Rt": 63.137912,
          "Velocidade": 22,
          "greide": "0%"
         },
         {
          "Ft": 363.75913043478255,
          "Rt": 63.86662199999999,
          "Velocidade": 23,
          "greide": "0%"
         },
         {
          "Ft": 348.60249999999996,
          "Rt": 64.603568,
          "Velocidade": 24,
          "greide": "0%"
         },
         {
          "Ft": 334.6584,
          "Rt": 65.34875,
          "Velocidade": 25,
          "greide": "0%"
         },
         {
          "Ft": 321.786923076923,
          "Rt": 66.102168,
          "Velocidade": 26,
          "greide": "0%"
         },
         {
          "Ft": 309.8688888888889,
          "Rt": 66.863822,
          "Velocidade": 27,
          "greide": "0%"
         },
         {
          "Ft": 298.8021428571428,
          "Rt": 67.63371199999999,
          "Velocidade": 28,
          "greide": "0%"
         },
         {
          "Ft": 288.4986206896551,
          "Rt": 68.41183799999999,
          "Velocidade": 29,
          "greide": "0%"
         },
         {
          "Ft": 278.88199999999995,
          "Rt": 69.1982,
          "Velocidade": 30,
          "greide": "0%"
         },
         {
          "Ft": 269.8858064516129,
          "Rt": 69.992798,
          "Velocidade": 31,
          "greide": "0%"
         },
         {
          "Ft": 261.451875,
          "Rt": 70.795632,
          "Velocidade": 32,
          "greide": "0%"
         },
         {
          "Ft": 253.52909090909088,
          "Rt": 71.606702,
          "Velocidade": 33,
          "greide": "0%"
         },
         {
          "Ft": 246.07235294117643,
          "Rt": 72.42600799999998,
          "Velocidade": 34,
          "greide": "0%"
         },
         {
          "Ft": 239.04171428571425,
          "Rt": 73.25354999999999,
          "Velocidade": 35,
          "greide": "0%"
         },
         {
          "Ft": 232.40166666666664,
          "Rt": 74.089328,
          "Velocidade": 36,
          "greide": "0%"
         },
         {
          "Ft": 226.1205405405405,
          "Rt": 74.933342,
          "Velocidade": 37,
          "greide": "0%"
         },
         {
          "Ft": 220.17,
          "Rt": 75.78559200000001,
          "Velocidade": 38,
          "greide": "0%"
         },
         {
          "Ft": 214.52461538461537,
          "Rt": 76.64607799999999,
          "Velocidade": 39,
          "greide": "0%"
         },
         {
          "Ft": 209.1615,
          "Rt": 77.5148,
          "Velocidade": 40,
          "greide": "0%"
         },
         {
          "Ft": 204.05999999999997,
          "Rt": 78.391758,
          "Velocidade": 41,
          "greide": "0%"
         },
         {
          "Ft": 199.20142857142855,
          "Rt": 79.276952,
          "Velocidade": 42,
          "greide": "0%"
         },
         {
          "Ft": 194.5688372093023,
          "Rt": 80.17038199999999,
          "Velocidade": 43,
          "greide": "0%"
         },
         {
          "Ft": 190.14681818181816,
          "Rt": 81.072048,
          "Velocidade": 44,
          "greide": "0%"
         },
         {
          "Ft": 185.9213333333333,
          "Rt": 81.98195,
          "Velocidade": 45,
          "greide": "0%"
         },
         {
          "Ft": 181.87956521739127,
          "Rt": 82.900088,
          "Velocidade": 46,
          "greide": "0%"
         },
         {
          "Ft": 178.00978723404253,
          "Rt": 83.82646199999999,
          "Velocidade": 47,
          "greide": "0%"
         },
         {
          "Ft": 174.30124999999998,
          "Rt": 84.761072,
          "Velocidade": 48,
          "greide": "0%"
         },
         {
          "Ft": 170.74408163265304,
          "Rt": 85.703918,
          "Velocidade": 49,
          "greide": "0%"
         },
         {
          "Ft": 167.3292,
          "Rt": 86.65499999999999,
          "Velocidade": 50,
          "greide": "0%"
         },
         {
          "Ft": 164.04823529411763,
          "Rt": 87.614318,
          "Velocidade": 51,
          "greide": "0%"
         },
         {
          "Ft": 160.8934615384615,
          "Rt": 88.58187199999999,
          "Velocidade": 52,
          "greide": "0%"
         },
         {
          "Ft": 157.85773584905658,
          "Rt": 89.557662,
          "Velocidade": 53,
          "greide": "0%"
         },
         {
          "Ft": 154.93444444444444,
          "Rt": 90.54168800000001,
          "Velocidade": 54,
          "greide": "0%"
         },
         {
          "Ft": 152.11745454545454,
          "Rt": 91.53394999999998,
          "Velocidade": 55,
          "greide": "0%"
         },
         {
          "Ft": 149.4010714285714,
          "Rt": 92.53444799999998,
          "Velocidade": 56,
          "greide": "0%"
         },
         {
          "Ft": 146.77999999999997,
          "Rt": 93.543182,
          "Velocidade": 57,
          "greide": "0%"
         },
         {
          "Ft": 144.24931034482756,
          "Rt": 94.560152,
          "Velocidade": 58,
          "greide": "0%"
         },
         {
          "Ft": 141.804406779661,
          "Rt": 95.58535800000001,
          "Velocidade": 59,
          "greide": "0%"
         },
         {
          "Ft": 139.44099999999997,
          "Rt": 96.61879999999998,
          "Velocidade": 60,
          "greide": "0%"
         },
         {
          "Ft": 137.1550819672131,
          "Rt": 97.66047799999998,
          "Velocidade": 61,
          "greide": "0%"
         },
         {
          "Ft": 134.94290322580645,
          "Rt": 98.710392,
          "Velocidade": 62,
          "greide": "0%"
         },
         {
          "Ft": 132.80095238095237,
          "Rt": 99.768542,
          "Velocidade": 63,
          "greide": "0%"
         },
         {
          "Ft": 130.7259375,
          "Rt": 100.83492799999999,
          "Velocidade": 64,
          "greide": "0%"
         },
         {
          "Ft": 128.7147692307692,
          "Rt": 101.90954999999998,
          "Velocidade": 65,
          "greide": "0%"
         },
         {
          "Ft": 126.76454545454544,
          "Rt": 102.992408,
          "Velocidade": 66,
          "greide": "0%"
         },
         {
          "Ft": 124.87253731343282,
          "Rt": 104.08350199999998,
          "Velocidade": 67,
          "greide": "0%"
         },
         {
          "Ft": 123.03617647058822,
          "Rt": 105.18283199999999,
          "Velocidade": 68,
          "greide": "0%"
         },
         {
          "Ft": 121.25304347826085,
          "Rt": 106.290398,
          "Velocidade": 69,
          "greide": "0%"
         },
         {
          "Ft": 119.52085714285712,
          "Rt": 107.40619999999998,
          "Velocidade": 70,
          "greide": "0%"
         },
         {
          "Ft": 117.83746478873238,
          "Rt": 108.530238,
          "Velocidade": 71,
          "greide": "0%"
         },
         {
          "Ft": 116.20083333333332,
          "Rt": 109.66251199999999,
          "Velocidade": 72,
          "greide": "0%"
         },
         {
          "Ft": 114.6090410958904,
          "Rt": 110.803022,
          "Velocidade": 73,
          "greide": "0%"
         },
         {
          "Ft": 113.06027027027025,
          "Rt": 111.951768,
          "Velocidade": 74,
          "greide": "0%"
         },
         {
          "Ft": 111.55279999999999,
          "Rt": 113.10874999999999,
          "Velocidade": 75,
          "greide": "0%"
         },
         {
          "Ft": 110.085,
          "Rt": 114.273968,
          "Velocidade": 76,
          "greide": "0%"
         },
         {
          "Ft": 108.65532467532466,
          "Rt": 115.44742199999999,
          "Velocidade": 77,
          "greide": "0%"
         },
         {
          "Ft": 107.26230769230769,
          "Rt": 116.62911199999998,
          "Velocidade": 78,
          "greide": "0%"
         },
         {
          "Ft": 105.90455696202531,
          "Rt": 117.81903799999998,
          "Velocidade": 79,
          "greide": "0%"
         },
         {
          "Ft": 104.58075,
          "Rt": 119.0172,
          "Velocidade": 80,
          "greide": "0%"
         },
         {
          "Ft": 103.28962962962962,
          "Rt": 120.22359799999998,
          "Velocidade": 81,
          "greide": "0%"
         },
         {
          "Ft": 102.02999999999999,
          "Rt": 121.438232,
          "Velocidade": 82,
          "greide": "0%"
         },
         {
          "Ft": 100.80072289156625,
          "Rt": 122.661102,
          "Velocidade": 83,
          "greide": "0%"
         },
         {
          "Ft": 99.60071428571428,
          "Rt": 123.892208,
          "Velocidade": 84,
          "greide": "0%"
         },
         {
          "Ft": 98.42894117647057,
          "Rt": 125.13155,
          "Velocidade": 85,
          "greide": "0%"
         },
         {
          "Ft": 97.28441860465115,
          "Rt": 126.37912799999998,
          "Velocidade": 86,
          "greide": "0%"
         },
         {
          "Ft": 96.16620689655171,
          "Rt": 127.634942,
          "Velocidade": 87,
          "greide": "0%"
         },
         {
          "Ft": 95.07340909090908,
          "Rt": 128.898992,
          "Velocidade": 88,
          "greide": "0%"
         },
         {
          "Ft": 94.00516853932584,
          "Rt": 130.171278,
          "Velocidade": 89,
          "greide": "0%"
         },
         {
          "Ft": 92.96066666666665,
          "Rt": 131.4518,
          "Velocidade": 90,
          "greide": "0%"
         },
         {
          "Ft": 91.93912087912086,
          "Rt": 132.74055800000002,
          "Velocidade": 91,
          "greide": "0%"
         },
         {
          "Ft": 90.93978260869564,
          "Rt": 134.037552,
          "Velocidade": 92,
          "greide": "0%"
         },
         {
          "Ft": 89.96193548387096,
          "Rt": 135.342782,
          "Velocidade": 93,
          "greide": "0%"
         },
         {
          "Ft": 89.00489361702127,
          "Rt": 136.656248,
          "Velocidade": 94,
          "greide": "0%"
         },
         {
          "Ft": 88.06799999999998,
          "Rt": 137.97795,
          "Velocidade": 95,
          "greide": "0%"
         },
         {
          "Ft": 87.15062499999999,
          "Rt": 139.307888,
          "Velocidade": 96,
          "greide": "0%"
         },
         {
          "Ft": 86.2521649484536,
          "Rt": 140.64606199999997,
          "Velocidade": 97,
          "greide": "0%"
         },
         {
          "Ft": 85.37204081632652,
          "Rt": 141.992472,
          "Velocidade": 98,
          "greide": "0%"
         },
         {
          "Ft": 84.50969696969696,
          "Rt": 143.347118,
          "Velocidade": 99,
          "greide": "0%"
         },
         {
          "Ft": 83.6646,
          "Rt": 144.71000000000004,
          "Velocidade": 100,
          "greide": "0%"
         },
         {
          "Ft": 82.83623762376237,
          "Rt": 146.081118,
          "Velocidade": 101,
          "greide": "0%"
         },
         {
          "Ft": 82.02411764705882,
          "Rt": 147.46047199999998,
          "Velocidade": 102,
          "greide": "0%"
         },
         {
          "Ft": 81.22776699029126,
          "Rt": 148.848062,
          "Velocidade": 103,
          "greide": "0%"
         },
         {
          "Ft": 80.44673076923075,
          "Rt": 150.24388799999997,
          "Velocidade": 104,
          "greide": "0%"
         },
         {
          "Ft": 79.68057142857143,
          "Rt": 151.64794999999998,
          "Velocidade": 105,
          "greide": "0%"
         },
         {
          "Ft": 78.92886792452829,
          "Rt": 153.060248,
          "Velocidade": 106,
          "greide": "0%"
         },
         {
          "Ft": 78.19121495327101,
          "Rt": 154.48078199999998,
          "Velocidade": 107,
          "greide": "0%"
         },
         {
          "Ft": 77.46722222222222,
          "Rt": 155.909552,
          "Velocidade": 108,
          "greide": "0%"
         },
         {
          "Ft": 76.75651376146789,
          "Rt": 157.34655800000002,
          "Velocidade": 109,
          "greide": "0%"
         },
         {
          "Ft": 780,
          "Rt": 54.849517999999996,
          "Velocidade": 1,
          "greide": "0.012%"
         },
         {
          "Ft": 780,
          "Rt": 55.405272,
          "Velocidade": 2,
          "greide": "0.012%"
         },
         {
          "Ft": 780,
          "Rt": 55.969262,
          "Velocidade": 3,
          "greide": "0.012%"
         },
         {
          "Ft": 780,
          "Rt": 56.54148799999999,
          "Velocidade": 4,
          "greide": "0.012%"
         },
         {
          "Ft": 780,
          "Rt": 57.12195,
          "Velocidade": 5,
          "greide": "0.012%"
         },
         {
          "Ft": 780,
          "Rt": 57.71064799999999,
          "Velocidade": 6,
          "greide": "0.012%"
         },
         {
          "Ft": 780,
          "Rt": 58.30758199999998,
          "Velocidade": 7,
          "greide": "0.012%"
         },
         {
          "Ft": 780,
          "Rt": 58.912752000000005,
          "Velocidade": 8,
          "greide": "0.012%"
         },
         {
          "Ft": 780,
          "Rt": 59.526157999999995,
          "Velocidade": 9,
          "greide": "0.012%"
         },
         {
          "Ft": 780,
          "Rt": 60.1478,
          "Velocidade": 10,
          "greide": "0.012%"
         },
         {
          "Ft": 760.5872727272726,
          "Rt": 60.777677999999995,
          "Velocidade": 11,
          "greide": "0.012%"
         },
         {
          "Ft": 697.2049999999999,
          "Rt": 61.415791999999996,
          "Velocidade": 12,
          "greide": "0.012%"
         },
         {
          "Ft": 643.573846153846,
          "Rt": 62.06214199999999,
          "Velocidade": 13,
          "greide": "0.012%"
         },
         {
          "Ft": 597.6042857142857,
          "Rt": 62.71672799999999,
          "Velocidade": 14,
          "greide": "0.012%"
         },
         {
          "Ft": 557.7639999999999,
          "Rt": 63.37955000000001,
          "Velocidade": 15,
          "greide": "0.012%"
         },
         {
          "Ft": 522.90375,
          "Rt": 64.050608,
          "Velocidade": 16,
          "greide": "0.012%"
         },
         {
          "Ft": 492.14470588235287,
          "Rt": 64.729902,
          "Velocidade": 17,
          "greide": "0.012%"
         },
         {
          "Ft": 464.8033333333333,
          "Rt": 65.41743199999999,
          "Velocidade": 18,
          "greide": "0.012%"
         },
         {
          "Ft": 440.34,
          "Rt": 66.11319799999998,
          "Velocidade": 19,
          "greide": "0.012%"
         },
         {
          "Ft": 418.323,
          "Rt": 66.8172,
          "Velocidade": 20,
          "greide": "0.012%"
         },
         {
          "Ft": 398.4028571428571,
          "Rt": 67.529438,
          "Velocidade": 21,
          "greide": "0.012%"
         },
         {
          "Ft": 380.2936363636363,
          "Rt": 68.24991200000001,
          "Velocidade": 22,
          "greide": "0.012%"
         },
         {
          "Ft": 363.75913043478255,
          "Rt": 68.97862199999999,
          "Velocidade": 23,
          "greide": "0.012%"
         },
         {
          "Ft": 348.60249999999996,
          "Rt": 69.71556799999999,
          "Velocidade": 24,
          "greide": "0.012%"
         },
         {
          "Ft": 334.6584,
          "Rt": 70.46074999999999,
          "Velocidade": 25,
          "greide": "0.012%"
         },
         {
          "Ft": 321.786923076923,
          "Rt": 71.21416800000002,
          "Velocidade": 26,
          "greide": "0.012%"
         },
         {
          "Ft": 309.8688888888889,
          "Rt": 71.975822,
          "Velocidade": 27,
          "greide": "0.012%"
         },
         {
          "Ft": 298.8021428571428,
          "Rt": 72.74571199999998,
          "Velocidade": 28,
          "greide": "0.012%"
         },
         {
          "Ft": 288.4986206896551,
          "Rt": 73.523838,
          "Velocidade": 29,
          "greide": "0.012%"
         },
         {
          "Ft": 278.88199999999995,
          "Rt": 74.3102,
          "Velocidade": 30,
          "greide": "0.012%"
         },
         {
          "Ft": 269.8858064516129,
          "Rt": 75.104798,
          "Velocidade": 31,
          "greide": "0.012%"
         },
         {
          "Ft": 261.451875,
          "Rt": 75.90763199999999,
          "Velocidade": 32,
          "greide": "0.012%"
         },
         {
          "Ft": 253.52909090909088,
          "Rt": 76.718702,
          "Velocidade": 33,
          "greide": "0.012%"
         },
         {
          "Ft": 246.07235294117643,
          "Rt": 77.53800799999998,
          "Velocidade": 34,
          "greide": "0.012%"
         },
         {
          "Ft": 239.04171428571425,
          "Rt": 78.36555000000001,
          "Velocidade": 35,
          "greide": "0.012%"
         },
         {
          "Ft": 232.40166666666664,
          "Rt": 79.201328,
          "Velocidade": 36,
          "greide": "0.012%"
         },
         {
          "Ft": 226.1205405405405,
          "Rt": 80.04534199999999,
          "Velocidade": 37,
          "greide": "0.012%"
         },
         {
          "Ft": 220.17,
          "Rt": 80.897592,
          "Velocidade": 38,
          "greide": "0.012%"
         },
         {
          "Ft": 214.52461538461537,
          "Rt": 81.758078,
          "Velocidade": 39,
          "greide": "0.012%"
         },
         {
          "Ft": 209.1615,
          "Rt": 82.6268,
          "Velocidade": 40,
          "greide": "0.012%"
         },
         {
          "Ft": 204.05999999999997,
          "Rt": 83.50375799999999,
          "Velocidade": 41,
          "greide": "0.012%"
         },
         {
          "Ft": 199.20142857142855,
          "Rt": 84.38895199999999,
          "Velocidade": 42,
          "greide": "0.012%"
         },
         {
          "Ft": 194.5688372093023,
          "Rt": 85.282382,
          "Velocidade": 43,
          "greide": "0.012%"
         },
         {
          "Ft": 190.14681818181816,
          "Rt": 86.184048,
          "Velocidade": 44,
          "greide": "0.012%"
         },
         {
          "Ft": 185.9213333333333,
          "Rt": 87.09395,
          "Velocidade": 45,
          "greide": "0.012%"
         },
         {
          "Ft": 181.87956521739127,
          "Rt": 88.01208799999999,
          "Velocidade": 46,
          "greide": "0.012%"
         },
         {
          "Ft": 178.00978723404253,
          "Rt": 88.938462,
          "Velocidade": 47,
          "greide": "0.012%"
         },
         {
          "Ft": 174.30124999999998,
          "Rt": 89.87307200000001,
          "Velocidade": 48,
          "greide": "0.012%"
         },
         {
          "Ft": 170.74408163265304,
          "Rt": 90.815918,
          "Velocidade": 49,
          "greide": "0.012%"
         },
         {
          "Ft": 167.3292,
          "Rt": 91.767,
          "Velocidade": 50,
          "greide": "0.012%"
         },
         {
          "Ft": 164.04823529411763,
          "Rt": 92.726318,
          "Velocidade": 51,
          "greide": "0.012%"
         },
         {
          "Ft": 160.8934615384615,
          "Rt": 93.693872,
          "Velocidade": 52,
          "greide": "0.012%"
         },
         {
          "Ft": 157.85773584905658,
          "Rt": 94.669662,
          "Velocidade": 53,
          "greide": "0.012%"
         },
         {
          "Ft": 154.93444444444444,
          "Rt": 95.653688,
          "Velocidade": 54,
          "greide": "0.012%"
         },
         {
          "Ft": 152.11745454545454,
          "Rt": 96.64595,
          "Velocidade": 55,
          "greide": "0.012%"
         },
         {
          "Ft": 149.4010714285714,
          "Rt": 97.64644799999999,
          "Velocidade": 56,
          "greide": "0.012%"
         },
         {
          "Ft": 146.77999999999997,
          "Rt": 98.65518200000001,
          "Velocidade": 57,
          "greide": "0.012%"
         },
         {
          "Ft": 144.24931034482756,
          "Rt": 99.672152,
          "Velocidade": 58,
          "greide": "0.012%"
         },
         {
          "Ft": 141.804406779661,
          "Rt": 100.69735800000001,
          "Velocidade": 59,
          "greide": "0.012%"
         },
         {
          "Ft": 139.44099999999997,
          "Rt": 101.73079999999999,
          "Velocidade": 60,
          "greide": "0.012%"
         },
         {
          "Ft": 137.1550819672131,
          "Rt": 102.77247799999999,
          "Velocidade": 61,
          "greide": "0.012%"
         },
         {
          "Ft": 134.94290322580645,
          "Rt": 103.822392,
          "Velocidade": 62,
          "greide": "0.012%"
         },
         {
          "Ft": 132.80095238095237,
          "Rt": 104.880542,
          "Velocidade": 63,
          "greide": "0.012%"
         },
         {
          "Ft": 130.7259375,
          "Rt": 105.94692799999999,
          "Velocidade": 64,
          "greide": "0.012%"
         },
         {
          "Ft": 128.7147692307692,
          "Rt": 107.02154999999998,
          "Velocidade": 65,
          "greide": "0.012%"
         },
         {
          "Ft": 126.76454545454544,
          "Rt": 108.104408,
          "Velocidade": 66,
          "greide": "0.012%"
         },
         {
          "Ft": 124.87253731343282,
          "Rt": 109.195502,
          "Velocidade": 67,
          "greide": "0.012%"
         },
         {
          "Ft": 123.03617647058822,
          "Rt": 110.294832,
          "Velocidade": 68,
          "greide": "0.012%"
         },
         {
          "Ft": 121.25304347826085,
          "Rt": 111.40239799999999,
          "Velocidade": 69,
          "greide": "0.012%"
         },
         {
          "Ft": 119.52085714285712,
          "Rt": 112.5182,
          "Velocidade": 70,
          "greide": "0.012%"
         },
         {
          "Ft": 117.83746478873238,
          "Rt": 113.642238,
          "Velocidade": 71,
          "greide": "0.012%"
         },
         {
          "Ft": 116.20083333333332,
          "Rt": 114.77451199999999,
          "Velocidade": 72,
          "greide": "0.012%"
         },
         {
          "Ft": 114.6090410958904,
          "Rt": 115.91502200000001,
          "Velocidade": 73,
          "greide": "0.012%"
         },
         {
          "Ft": 113.06027027027025,
          "Rt": 117.06376800000001,
          "Velocidade": 74,
          "greide": "0.012%"
         },
         {
          "Ft": 111.55279999999999,
          "Rt": 118.22075000000001,
          "Velocidade": 75,
          "greide": "0.012%"
         },
         {
          "Ft": 110.085,
          "Rt": 119.38596799999999,
          "Velocidade": 76,
          "greide": "0.012%"
         },
         {
          "Ft": 108.65532467532466,
          "Rt": 120.55942200000001,
          "Velocidade": 77,
          "greide": "0.012%"
         },
         {
          "Ft": 107.26230769230769,
          "Rt": 121.74111199999999,
          "Velocidade": 78,
          "greide": "0.012%"
         },
         {
          "Ft": 105.90455696202531,
          "Rt": 122.931038,
          "Velocidade": 79,
          "greide": "0.012%"
         },
         {
          "Ft": 104.58075,
          "Rt": 124.1292,
          "Velocidade": 80,
          "greide": "0.012%"
         },
         {
          "Ft": 103.28962962962962,
          "Rt": 125.33559799999999,
          "Velocidade": 81,
          "greide": "0.012%"
         },
         {
          "Ft": 102.02999999999999,
          "Rt": 126.55023200000001,
          "Velocidade": 82,
          "greide": "0.012%"
         },
         {
          "Ft": 100.80072289156625,
          "Rt": 127.77310200000001,
          "Velocidade": 83,
          "greide": "0.012%"
         },
         {
          "Ft": 99.60071428571428,
          "Rt": 129.004208,
          "Velocidade": 84,
          "greide": "0.012%"
         },
         {
          "Ft": 98.42894117647057,
          "Rt": 130.24355,
          "Velocidade": 85,
          "greide": "0.012%"
         },
         {
          "Ft": 97.28441860465115,
          "Rt": 131.491128,
          "Velocidade": 86,
          "greide": "0.012%"
         },
         {
          "Ft": 96.16620689655171,
          "Rt": 132.746942,
          "Velocidade": 87,
          "greide": "0.012%"
         },
         {
          "Ft": 95.07340909090908,
          "Rt": 134.010992,
          "Velocidade": 88,
          "greide": "0.012%"
         },
         {
          "Ft": 94.00516853932584,
          "Rt": 135.283278,
          "Velocidade": 89,
          "greide": "0.012%"
         },
         {
          "Ft": 92.96066666666665,
          "Rt": 136.5638,
          "Velocidade": 90,
          "greide": "0.012%"
         },
         {
          "Ft": 91.93912087912086,
          "Rt": 137.85255800000002,
          "Velocidade": 91,
          "greide": "0.012%"
         },
         {
          "Ft": 90.93978260869564,
          "Rt": 139.149552,
          "Velocidade": 92,
          "greide": "0.012%"
         },
         {
          "Ft": 89.96193548387096,
          "Rt": 140.45478200000002,
          "Velocidade": 93,
          "greide": "0.012%"
         },
         {
          "Ft": 89.00489361702127,
          "Rt": 141.768248,
          "Velocidade": 94,
          "greide": "0.012%"
         },
         {
          "Ft": 88.06799999999998,
          "Rt": 143.08995,
          "Velocidade": 95,
          "greide": "0.012%"
         },
         {
          "Ft": 87.15062499999999,
          "Rt": 144.419888,
          "Velocidade": 96,
          "greide": "0.012%"
         },
         {
          "Ft": 86.2521649484536,
          "Rt": 145.75806199999997,
          "Velocidade": 97,
          "greide": "0.012%"
         },
         {
          "Ft": 85.37204081632652,
          "Rt": 147.10447200000002,
          "Velocidade": 98,
          "greide": "0.012%"
         },
         {
          "Ft": 84.50969696969696,
          "Rt": 148.459118,
          "Velocidade": 99,
          "greide": "0.012%"
         },
         {
          "Ft": 83.6646,
          "Rt": 149.822,
          "Velocidade": 100,
          "greide": "0.012%"
         },
         {
          "Ft": 82.83623762376237,
          "Rt": 151.19311800000003,
          "Velocidade": 101,
          "greide": "0.012%"
         },
         {
          "Ft": 82.02411764705882,
          "Rt": 152.572472,
          "Velocidade": 102,
          "greide": "0.012%"
         },
         {
          "Ft": 81.22776699029126,
          "Rt": 153.96006200000002,
          "Velocidade": 103,
          "greide": "0.012%"
         },
         {
          "Ft": 80.44673076923075,
          "Rt": 155.355888,
          "Velocidade": 104,
          "greide": "0.012%"
         },
         {
          "Ft": 79.68057142857143,
          "Rt": 156.75994999999998,
          "Velocidade": 105,
          "greide": "0.012%"
         },
         {
          "Ft": 78.92886792452829,
          "Rt": 158.172248,
          "Velocidade": 106,
          "greide": "0.012%"
         },
         {
          "Ft": 78.19121495327101,
          "Rt": 159.592782,
          "Velocidade": 107,
          "greide": "0.012%"
         },
         {
          "Ft": 77.46722222222222,
          "Rt": 161.02155199999999,
          "Velocidade": 108,
          "greide": "0.012%"
         },
         {
          "Ft": 76.75651376146789,
          "Rt": 162.45855800000004,
          "Velocidade": 109,
          "greide": "0.012%"
         },
         {
          "Ft": 780,
          "Rt": 48.45951799999999,
          "Velocidade": 1,
          "greide": "-0.003%"
         },
         {
          "Ft": 780,
          "Rt": 49.015271999999996,
          "Velocidade": 2,
          "greide": "-0.003%"
         },
         {
          "Ft": 780,
          "Rt": 49.57926199999999,
          "Velocidade": 3,
          "greide": "-0.003%"
         },
         {
          "Ft": 780,
          "Rt": 50.151487999999986,
          "Velocidade": 4,
          "greide": "-0.003%"
         },
         {
          "Ft": 780,
          "Rt": 50.73195,
          "Velocidade": 5,
          "greide": "-0.003%"
         },
         {
          "Ft": 780,
          "Rt": 51.320648,
          "Velocidade": 6,
          "greide": "-0.003%"
         },
         {
          "Ft": 780,
          "Rt": 51.91758199999999,
          "Velocidade": 7,
          "greide": "-0.003%"
         },
         {
          "Ft": 780,
          "Rt": 52.522752,
          "Velocidade": 8,
          "greide": "-0.003%"
         },
         {
          "Ft": 780,
          "Rt": 53.136157999999995,
          "Velocidade": 9,
          "greide": "-0.003%"
         },
         {
          "Ft": 780,
          "Rt": 53.75779999999999,
          "Velocidade": 10,
          "greide": "-0.003%"
         },
         {
          "Ft": 760.5872727272726,
          "Rt": 54.387678,
          "Velocidade": 11,
          "greide": "-0.003%"
         },
         {
          "Ft": 697.2049999999999,
          "Rt": 55.02579199999999,
          "Velocidade": 12,
          "greide": "-0.003%"
         },
         {
          "Ft": 643.573846153846,
          "Rt": 55.672141999999994,
          "Velocidade": 13,
          "greide": "-0.003%"
         },
         {
          "Ft": 597.6042857142857,
          "Rt": 56.32672799999999,
          "Velocidade": 14,
          "greide": "-0.003%"
         },
         {
          "Ft": 557.7639999999999,
          "Rt": 56.98955,
          "Velocidade": 15,
          "greide": "-0.003%"
         },
         {
          "Ft": 522.90375,
          "Rt": 57.66060799999999,
          "Velocidade": 16,
          "greide": "-0.003%"
         },
         {
          "Ft": 492.14470588235287,
          "Rt": 58.339902,
          "Velocidade": 17,
          "greide": "-0.003%"
         },
         {
          "Ft": 464.8033333333333,
          "Rt": 59.02743199999999,
          "Velocidade": 18,
          "greide": "-0.003%"
         },
         {
          "Ft": 440.34,
          "Rt": 59.72319799999999,
          "Velocidade": 19,
          "greide": "-0.003%"
         },
         {
          "Ft": 418.323,
          "Rt": 60.42719999999999,
          "Velocidade": 20,
          "greide": "-0.003%"
         },
         {
          "Ft": 398.4028571428571,
          "Rt": 61.13943799999999,
          "Velocidade": 21,
          "greide": "-0.003%"
         },
         {
          "Ft": 380.2936363636363,
          "Rt": 61.859911999999994,
          "Velocidade": 22,
          "greide": "-0.003%"
         },
         {
          "Ft": 363.75913043478255,
          "Rt": 62.588621999999994,
          "Velocidade": 23,
          "greide": "-0.003%"
         },
         {
          "Ft": 348.60249999999996,
          "Rt": 63.325568,
          "Velocidade": 24,
          "greide": "-0.003%"
         },
         {
          "Ft": 334.6584,
          "Rt": 64.07074999999999,
          "Velocidade": 25,
          "greide": "-0.003%"
         },
         {
          "Ft": 321.786923076923,
          "Rt": 64.824168,
          "Velocidade": 26,
          "greide": "-0.003%"
         },
         {
          "Ft": 309.8688888888889,
          "Rt": 65.58582200000001,
          "Velocidade": 27,
          "greide": "-0.003%"
         },
         {
          "Ft": 298.8021428571428,
          "Rt": 66.355712,
          "Velocidade": 28,
          "greide": "-0.003%"
         },
         {
          "Ft": 288.4986206896551,
          "Rt": 67.133838,
          "Velocidade": 29,
          "greide": "-0.003%"
         },
         {
          "Ft": 278.88199999999995,
          "Rt": 67.9202,
          "Velocidade": 30,
          "greide": "-0.003%"
         },
         {
          "Ft": 269.8858064516129,
          "Rt": 68.714798,
          "Velocidade": 31,
          "greide": "-0.003%"
         },
         {
          "Ft": 261.451875,
          "Rt": 69.51763199999999,
          "Velocidade": 32,
          "greide": "-0.003%"
         },
         {
          "Ft": 253.52909090909088,
          "Rt": 70.32870199999999,
          "Velocidade": 33,
          "greide": "-0.003%"
         },
         {
          "Ft": 246.07235294117643,
          "Rt": 71.14800799999999,
          "Velocidade": 34,
          "greide": "-0.003%"
         },
         {
          "Ft": 239.04171428571425,
          "Rt": 71.97555000000001,
          "Velocidade": 35,
          "greide": "-0.003%"
         },
         {
          "Ft": 232.40166666666664,
          "Rt": 72.81132799999999,
          "Velocidade": 36,
          "greide": "-0.003%"
         },
         {
          "Ft": 226.1205405405405,
          "Rt": 73.65534199999999,
          "Velocidade": 37,
          "greide": "-0.003%"
         },
         {
          "Ft": 220.17,
          "Rt": 74.507592,
          "Velocidade": 38,
          "greide": "-0.003%"
         },
         {
          "Ft": 214.52461538461537,
          "Rt": 75.36807800000001,
          "Velocidade": 39,
          "greide": "-0.003%"
         },
         {
          "Ft": 209.1615,
          "Rt": 76.23679999999999,
          "Velocidade": 40,
          "greide": "-0.003%"
         },
         {
          "Ft": 204.05999999999997,
          "Rt": 77.11375799999999,
          "Velocidade": 41,
          "greide": "-0.003%"
         },
         {
          "Ft": 199.20142857142855,
          "Rt": 77.99895199999999,
          "Velocidade": 42,
          "greide": "-0.003%"
         },
         {
          "Ft": 194.5688372093023,
          "Rt": 78.892382,
          "Velocidade": 43,
          "greide": "-0.003%"
         },
         {
          "Ft": 190.14681818181816,
          "Rt": 79.79404799999999,
          "Velocidade": 44,
          "greide": "-0.003%"
         },
         {
          "Ft": 185.9213333333333,
          "Rt": 80.70394999999999,
          "Velocidade": 45,
          "greide": "-0.003%"
         },
         {
          "Ft": 181.87956521739127,
          "Rt": 81.62208799999999,
          "Velocidade": 46,
          "greide": "-0.003%"
         },
         {
          "Ft": 178.00978723404253,
          "Rt": 82.548462,
          "Velocidade": 47,
          "greide": "-0.003%"
         },
         {
          "Ft": 174.30124999999998,
          "Rt": 83.48307199999999,
          "Velocidade": 48,
          "greide": "-0.003%"
         },
         {
          "Ft": 170.74408163265304,
          "Rt": 84.425918,
          "Velocidade": 49,
          "greide": "-0.003%"
         },
         {
          "Ft": 167.3292,
          "Rt": 85.377,
          "Velocidade": 50,
          "greide": "-0.003%"
         },
         {
          "Ft": 164.04823529411763,
          "Rt": 86.33631799999999,
          "Velocidade": 51,
          "greide": "-0.003%"
         },
         {
          "Ft": 160.8934615384615,
          "Rt": 87.303872,
          "Velocidade": 52,
          "greide": "-0.003%"
         },
         {
          "Ft": 157.85773584905658,
          "Rt": 88.279662,
          "Velocidade": 53,
          "greide": "-0.003%"
         },
         {
          "Ft": 154.93444444444444,
          "Rt": 89.263688,
          "Velocidade": 54,
          "greide": "-0.003%"
         },
         {
          "Ft": 152.11745454545454,
          "Rt": 90.25595,
          "Velocidade": 55,
          "greide": "-0.003%"
         },
         {
          "Ft": 149.4010714285714,
          "Rt": 91.256448,
          "Velocidade": 56,
          "greide": "-0.003%"
         },
         {
          "Ft": 146.77999999999997,
          "Rt": 92.26518200000001,
          "Velocidade": 57,
          "greide": "-0.003%"
         },
         {
          "Ft": 144.24931034482756,
          "Rt": 93.28215200000001,
          "Velocidade": 58,
          "greide": "-0.003%"
         },
         {
          "Ft": 141.804406779661,
          "Rt": 94.30735800000001,
          "Velocidade": 59,
          "greide": "-0.003%"
         },
         {
          "Ft": 139.44099999999997,
          "Rt": 95.34079999999999,
          "Velocidade": 60,
          "greide": "-0.003%"
         },
         {
          "Ft": 137.1550819672131,
          "Rt": 96.382478,
          "Velocidade": 61,
          "greide": "-0.003%"
         },
         {
          "Ft": 134.94290322580645,
          "Rt": 97.432392,
          "Velocidade": 62,
          "greide": "-0.003%"
         },
         {
          "Ft": 132.80095238095237,
          "Rt": 98.490542,
          "Velocidade": 63,
          "greide": "-0.003%"
         },
         {
          "Ft": 130.7259375,
          "Rt": 99.55692799999998,
          "Velocidade": 64,
          "greide": "-0.003%"
         },
         {
          "Ft": 128.7147692307692,
          "Rt": 100.63155,
          "Velocidade": 65,
          "greide": "-0.003%"
         },
         {
          "Ft": 126.76454545454544,
          "Rt": 101.71440800000002,
          "Velocidade": 66,
          "greide": "-0.003%"
         },
         {
          "Ft": 124.87253731343282,
          "Rt": 102.805502,
          "Velocidade": 67,
          "greide": "-0.003%"
         },
         {
          "Ft": 123.03617647058822,
          "Rt": 103.904832,
          "Velocidade": 68,
          "greide": "-0.003%"
         },
         {
          "Ft": 121.25304347826085,
          "Rt": 105.012398,
          "Velocidade": 69,
          "greide": "-0.003%"
         },
         {
          "Ft": 119.52085714285712,
          "Rt": 106.12819999999999,
          "Velocidade": 70,
          "greide": "-0.003%"
         },
         {
          "Ft": 117.83746478873238,
          "Rt": 107.252238,
          "Velocidade": 71,
          "greide": "-0.003%"
         },
         {
          "Ft": 116.20083333333332,
          "Rt": 108.384512,
          "Velocidade": 72,
          "greide": "-0.003%"
         },
         {
          "Ft": 114.6090410958904,
          "Rt": 109.525022,
          "Velocidade": 73,
          "greide": "-0.003%"
         },
         {
          "Ft": 113.06027027027025,
          "Rt": 110.67376800000001,
          "Velocidade": 74,
          "greide": "-0.003%"
         },
         {
          "Ft": 111.55279999999999,
          "Rt": 111.83075000000001,
          "Velocidade": 75,
          "greide": "-0.003%"
         },
         {
          "Ft": 110.085,
          "Rt": 112.99596799999999,
          "Velocidade": 76,
          "greide": "-0.003%"
         },
         {
          "Ft": 108.65532467532466,
          "Rt": 114.16942200000001,
          "Velocidade": 77,
          "greide": "-0.003%"
         },
         {
          "Ft": 107.26230769230769,
          "Rt": 115.35111199999999,
          "Velocidade": 78,
          "greide": "-0.003%"
         },
         {
          "Ft": 105.90455696202531,
          "Rt": 116.541038,
          "Velocidade": 79,
          "greide": "-0.003%"
         },
         {
          "Ft": 104.58075,
          "Rt": 117.7392,
          "Velocidade": 80,
          "greide": "-0.003%"
         },
         {
          "Ft": 103.28962962962962,
          "Rt": 118.94559799999999,
          "Velocidade": 81,
          "greide": "-0.003%"
         },
         {
          "Ft": 102.02999999999999,
          "Rt": 120.16023200000001,
          "Velocidade": 82,
          "greide": "-0.003%"
         },
         {
          "Ft": 100.80072289156625,
          "Rt": 121.38310200000001,
          "Velocidade": 83,
          "greide": "-0.003%"
         },
         {
          "Ft": 99.60071428571428,
          "Rt": 122.61420800000002,
          "Velocidade": 84,
          "greide": "-0.003%"
         },
         {
          "Ft": 98.42894117647057,
          "Rt": 123.85355000000001,
          "Velocidade": 85,
          "greide": "-0.003%"
         },
         {
          "Ft": 97.28441860465115,
          "Rt": 125.101128,
          "Velocidade": 86,
          "greide": "-0.003%"
         },
         {
          "Ft": 96.16620689655171,
          "Rt": 126.356942,
          "Velocidade": 87,
          "greide": "-0.003%"
         },
         {
          "Ft": 95.07340909090908,
          "Rt": 127.62099199999999,
          "Velocidade": 88,
          "greide": "-0.003%"
         },
         {
          "Ft": 94.00516853932584,
          "Rt": 128.893278,
          "Velocidade": 89,
          "greide": "-0.003%"
         },
         {
          "Ft": 92.96066666666665,
          "Rt": 130.1738,
          "Velocidade": 90,
          "greide": "-0.003%"
         },
         {
          "Ft": 91.93912087912086,
          "Rt": 131.46255800000003,
          "Velocidade": 91,
          "greide": "-0.003%"
         },
         {
          "Ft": 90.93978260869564,
          "Rt": 132.75955199999999,
          "Velocidade": 92,
          "greide": "-0.003%"
         },
         {
          "Ft": 89.96193548387096,
          "Rt": 134.064782,
          "Velocidade": 93,
          "greide": "-0.003%"
         },
         {
          "Ft": 89.00489361702127,
          "Rt": 135.37824799999999,
          "Velocidade": 94,
          "greide": "-0.003%"
         },
         {
          "Ft": 88.06799999999998,
          "Rt": 136.69995,
          "Velocidade": 95,
          "greide": "-0.003%"
         },
         {
          "Ft": 87.15062499999999,
          "Rt": 138.029888,
          "Velocidade": 96,
          "greide": "-0.003%"
         },
         {
          "Ft": 86.2521649484536,
          "Rt": 139.36806199999998,
          "Velocidade": 97,
          "greide": "-0.003%"
         },
         {
          "Ft": 85.37204081632652,
          "Rt": 140.714472,
          "Velocidade": 98,
          "greide": "-0.003%"
         },
         {
          "Ft": 84.50969696969696,
          "Rt": 142.069118,
          "Velocidade": 99,
          "greide": "-0.003%"
         },
         {
          "Ft": 83.6646,
          "Rt": 143.43200000000002,
          "Velocidade": 100,
          "greide": "-0.003%"
         },
         {
          "Ft": 82.83623762376237,
          "Rt": 144.803118,
          "Velocidade": 101,
          "greide": "-0.003%"
         },
         {
          "Ft": 82.02411764705882,
          "Rt": 146.18247200000002,
          "Velocidade": 102,
          "greide": "-0.003%"
         },
         {
          "Ft": 81.22776699029126,
          "Rt": 147.570062,
          "Velocidade": 103,
          "greide": "-0.003%"
         },
         {
          "Ft": 80.44673076923075,
          "Rt": 148.965888,
          "Velocidade": 104,
          "greide": "-0.003%"
         },
         {
          "Ft": 79.68057142857143,
          "Rt": 150.36995,
          "Velocidade": 105,
          "greide": "-0.003%"
         },
         {
          "Ft": 78.92886792452829,
          "Rt": 151.78224799999998,
          "Velocidade": 106,
          "greide": "-0.003%"
         },
         {
          "Ft": 78.19121495327101,
          "Rt": 153.202782,
          "Velocidade": 107,
          "greide": "-0.003%"
         },
         {
          "Ft": 77.46722222222222,
          "Rt": 154.631552,
          "Velocidade": 108,
          "greide": "-0.003%"
         },
         {
          "Ft": 76.75651376146789,
          "Rt": 156.06855800000002,
          "Velocidade": 109,
          "greide": "-0.003%"
         },
         {
          "Ft": 780,
          "Rt": 51.015518,
          "Velocidade": 1,
          "greide": "0.003%"
         },
         {
          "Ft": 780,
          "Rt": 51.57127199999999,
          "Velocidade": 2,
          "greide": "0.003%"
         },
         {
          "Ft": 780,
          "Rt": 52.135262,
          "Velocidade": 3,
          "greide": "0.003%"
         },
         {
          "Ft": 780,
          "Rt": 52.707488,
          "Velocidade": 4,
          "greide": "0.003%"
         },
         {
          "Ft": 780,
          "Rt": 53.287949999999995,
          "Velocidade": 5,
          "greide": "0.003%"
         },
         {
          "Ft": 780,
          "Rt": 53.876648,
          "Velocidade": 6,
          "greide": "0.003%"
         },
         {
          "Ft": 780,
          "Rt": 54.47358199999999,
          "Velocidade": 7,
          "greide": "0.003%"
         },
         {
          "Ft": 780,
          "Rt": 55.078752,
          "Velocidade": 8,
          "greide": "0.003%"
         },
         {
          "Ft": 780,
          "Rt": 55.692158,
          "Velocidade": 9,
          "greide": "0.003%"
         },
         {
          "Ft": 780,
          "Rt": 56.313799999999986,
          "Velocidade": 10,
          "greide": "0.003%"
         },
         {
          "Ft": 760.5872727272726,
          "Rt": 56.943678,
          "Velocidade": 11,
          "greide": "0.003%"
         },
         {
          "Ft": 697.2049999999999,
          "Rt": 57.58179199999999,
          "Velocidade": 12,
          "greide": "0.003%"
         },
         {
          "Ft": 643.573846153846,
          "Rt": 58.22814199999999,
          "Velocidade": 13,
          "greide": "0.003%"
         },
         {
          "Ft": 597.6042857142857,
          "Rt": 58.88272799999999,
          "Velocidade": 14,
          "greide": "0.003%"
         },
         {
          "Ft": 557.7639999999999,
          "Rt": 59.545550000000006,
          "Velocidade": 15,
          "greide": "0.003%"
         },
         {
          "Ft": 522.90375,
          "Rt": 60.216608,
          "Velocidade": 16,
          "greide": "0.003%"
         },
         {
          "Ft": 492.14470588235287,
          "Rt": 60.895902,
          "Velocidade": 17,
          "greide": "0.003%"
         },
         {
          "Ft": 464.8033333333333,
          "Rt": 61.583432,
          "Velocidade": 18,
          "greide": "0.003%"
         },
         {
          "Ft": 440.34,
          "Rt": 62.279197999999994,
          "Velocidade": 19,
          "greide": "0.003%"
         },
         {
          "Ft": 418.323,
          "Rt": 62.9832,
          "Velocidade": 20,
          "greide": "0.003%"
         },
         {
          "Ft": 398.4028571428571,
          "Rt": 63.695437999999996,
          "Velocidade": 21,
          "greide": "0.003%"
         },
         {
          "Ft": 380.2936363636363,
          "Rt": 64.415912,
          "Velocidade": 22,
          "greide": "0.003%"
         },
         {
          "Ft": 363.75913043478255,
          "Rt": 65.144622,
          "Velocidade": 23,
          "greide": "0.003%"
         },
         {
          "Ft": 348.60249999999996,
          "Rt": 65.88156799999999,
          "Velocidade": 24,
          "greide": "0.003%"
         },
         {
          "Ft": 334.6584,
          "Rt": 66.62675,
          "Velocidade": 25,
          "greide": "0.003%"
         },
         {
          "Ft": 321.786923076923,
          "Rt": 67.380168,
          "Velocidade": 26,
          "greide": "0.003%"
         },
         {
          "Ft": 309.8688888888889,
          "Rt": 68.141822,
          "Velocidade": 27,
          "greide": "0.003%"
         },
         {
          "Ft": 298.8021428571428,
          "Rt": 68.911712,
          "Velocidade": 28,
          "greide": "0.003%"
         },
         {
          "Ft": 288.4986206896551,
          "Rt": 69.689838,
          "Velocidade": 29,
          "greide": "0.003%"
         },
         {
          "Ft": 278.88199999999995,
          "Rt": 70.4762,
          "Velocidade": 30,
          "greide": "0.003%"
         },
         {
          "Ft": 269.8858064516129,
          "Rt": 71.270798,
          "Velocidade": 31,
          "greide": "0.003%"
         },
         {
          "Ft": 261.451875,
          "Rt": 72.073632,
          "Velocidade": 32,
          "greide": "0.003%"
         },
         {
          "Ft": 253.52909090909088,
          "Rt": 72.884702,
          "Velocidade": 33,
          "greide": "0.003%"
         },
         {
          "Ft": 246.07235294117643,
          "Rt": 73.70400799999999,
          "Velocidade": 34,
          "greide": "0.003%"
         },
         {
          "Ft": 239.04171428571425,
          "Rt": 74.53155,
          "Velocidade": 35,
          "greide": "0.003%"
         },
         {
          "Ft": 232.40166666666664,
          "Rt": 75.36732799999999,
          "Velocidade": 36,
          "greide": "0.003%"
         },
         {
          "Ft": 226.1205405405405,
          "Rt": 76.21134199999999,
          "Velocidade": 37,
          "greide": "0.003%"
         },
         {
          "Ft": 220.17,
          "Rt": 77.06359199999999,
          "Velocidade": 38,
          "greide": "0.003%"
         },
         {
          "Ft": 214.52461538461537,
          "Rt": 77.924078,
          "Velocidade": 39,
          "greide": "0.003%"
         },
         {
          "Ft": 209.1615,
          "Rt": 78.7928,
          "Velocidade": 40,
          "greide": "0.003%"
         },
         {
          "Ft": 204.05999999999997,
          "Rt": 79.669758,
          "Velocidade": 41,
          "greide": "0.003%"
         },
         {
          "Ft": 199.20142857142855,
          "Rt": 80.554952,
          "Velocidade": 42,
          "greide": "0.003%"
         },
         {
          "Ft": 194.5688372093023,
          "Rt": 81.448382,
          "Velocidade": 43,
          "greide": "0.003%"
         },
         {
          "Ft": 190.14681818181816,
          "Rt": 82.350048,
          "Velocidade": 44,
          "greide": "0.003%"
         },
         {
          "Ft": 185.9213333333333,
          "Rt": 83.25994999999999,
          "Velocidade": 45,
          "greide": "0.003%"
         },
         {
          "Ft": 181.87956521739127,
          "Rt": 84.178088,
          "Velocidade": 46,
          "greide": "0.003%"
         },
         {
          "Ft": 178.00978723404253,
          "Rt": 85.104462,
          "Velocidade": 47,
          "greide": "0.003%"
         },
         {
          "Ft": 174.30124999999998,
          "Rt": 86.039072,
          "Velocidade": 48,
          "greide": "0.003%"
         },
         {
          "Ft": 170.74408163265304,
          "Rt": 86.98191800000001,
          "Velocidade": 49,
          "greide": "0.003%"
         },
         {
          "Ft": 167.3292,
          "Rt": 87.93299999999999,
          "Velocidade": 50,
          "greide": "0.003%"
         },
         {
          "Ft": 164.04823529411763,
          "Rt": 88.89231799999999,
          "Velocidade": 51,
          "greide": "0.003%"
         },
         {
          "Ft": 160.8934615384615,
          "Rt": 89.85987199999998,
          "Velocidade": 52,
          "greide": "0.003%"
         },
         {
          "Ft": 157.85773584905658,
          "Rt": 90.83566199999999,
          "Velocidade": 53,
          "greide": "0.003%"
         },
         {
          "Ft": 154.93444444444444,
          "Rt": 91.81968799999999,
          "Velocidade": 54,
          "greide": "0.003%"
         },
         {
          "Ft": 152.11745454545454,
          "Rt": 92.81194999999997,
          "Velocidade": 55,
          "greide": "0.003%"
         },
         {
          "Ft": 149.4010714285714,
          "Rt": 93.81244799999999,
          "Velocidade": 56,
          "greide": "0.003%"
         },
         {
          "Ft": 146.77999999999997,
          "Rt": 94.821182,
          "Velocidade": 57,
          "greide": "0.003%"
         },
         {
          "Ft": 144.24931034482756,
          "Rt": 95.838152,
          "Velocidade": 58,
          "greide": "0.003%"
         },
         {
          "Ft": 141.804406779661,
          "Rt": 96.86335799999999,
          "Velocidade": 59,
          "greide": "0.003%"
         },
         {
          "Ft": 139.44099999999997,
          "Rt": 97.89679999999997,
          "Velocidade": 60,
          "greide": "0.003%"
         },
         {
          "Ft": 137.1550819672131,
          "Rt": 98.93847799999998,
          "Velocidade": 61,
          "greide": "0.003%"
         },
         {
          "Ft": 134.94290322580645,
          "Rt": 99.98839199999999,
          "Velocidade": 62,
          "greide": "0.003%"
         },
         {
          "Ft": 132.80095238095237,
          "Rt": 101.04654199999997,
          "Velocidade": 63,
          "greide": "0.003%"
         },
         {
          "Ft": 130.7259375,
          "Rt": 102.11292799999998,
          "Velocidade": 64,
          "greide": "0.003%"
         },
         {
          "Ft": 128.7147692307692,
          "Rt": 103.18754999999997,
          "Velocidade": 65,
          "greide": "0.003%"
         },
         {
          "Ft": 126.76454545454544,
          "Rt": 104.27040799999999,
          "Velocidade": 66,
          "greide": "0.003%"
         },
         {
          "Ft": 124.87253731343282,
          "Rt": 105.36150199999997,
          "Velocidade": 67,
          "greide": "0.003%"
         },
         {
          "Ft": 123.03617647058822,
          "Rt": 106.46083199999998,
          "Velocidade": 68,
          "greide": "0.003%"
         },
         {
          "Ft": 121.25304347826085,
          "Rt": 107.56839799999997,
          "Velocidade": 69,
          "greide": "0.003%"
         },
         {
          "Ft": 119.52085714285712,
          "Rt": 108.68419999999996,
          "Velocidade": 70,
          "greide": "0.003%"
         },
         {
          "Ft": 117.83746478873238,
          "Rt": 109.80823799999999,
          "Velocidade": 71,
          "greide": "0.003%"
         },
         {
          "Ft": 116.20083333333332,
          "Rt": 110.94051199999998,
          "Velocidade": 72,
          "greide": "0.003%"
         },
         {
          "Ft": 114.6090410958904,
          "Rt": 112.08102199999999,
          "Velocidade": 73,
          "greide": "0.003%"
         },
         {
          "Ft": 113.06027027027025,
          "Rt": 113.229768,
          "Velocidade": 74,
          "greide": "0.003%"
         },
         {
          "Ft": 111.55279999999999,
          "Rt": 114.38674999999999,
          "Velocidade": 75,
          "greide": "0.003%"
         },
         {
          "Ft": 110.085,
          "Rt": 115.55196799999999,
          "Velocidade": 76,
          "greide": "0.003%"
         },
         {
          "Ft": 108.65532467532466,
          "Rt": 116.725422,
          "Velocidade": 77,
          "greide": "0.003%"
         },
         {
          "Ft": 107.26230769230769,
          "Rt": 117.90711199999998,
          "Velocidade": 78,
          "greide": "0.003%"
         },
         {
          "Ft": 105.90455696202531,
          "Rt": 119.09703799999998,
          "Velocidade": 79,
          "greide": "0.003%"
         },
         {
          "Ft": 104.58075,
          "Rt": 120.29519999999998,
          "Velocidade": 80,
          "greide": "0.003%"
         },
         {
          "Ft": 103.28962962962962,
          "Rt": 121.50159799999997,
          "Velocidade": 81,
          "greide": "0.003%"
         },
         {
          "Ft": 102.02999999999999,
          "Rt": 122.716232,
          "Velocidade": 82,
          "greide": "0.003%"
         },
         {
          "Ft": 100.80072289156625,
          "Rt": 123.93910199999999,
          "Velocidade": 83,
          "greide": "0.003%"
         },
         {
          "Ft": 99.60071428571428,
          "Rt": 125.17020799999999,
          "Velocidade": 84,
          "greide": "0.003%"
         },
         {
          "Ft": 98.42894117647057,
          "Rt": 126.40955,
          "Velocidade": 85,
          "greide": "0.003%"
         },
         {
          "Ft": 97.28441860465115,
          "Rt": 127.65712799999997,
          "Velocidade": 86,
          "greide": "0.003%"
         },
         {
          "Ft": 96.16620689655171,
          "Rt": 128.912942,
          "Velocidade": 87,
          "greide": "0.003%"
         },
         {
          "Ft": 95.07340909090908,
          "Rt": 130.17699199999998,
          "Velocidade": 88,
          "greide": "0.003%"
         },
         {
          "Ft": 94.00516853932584,
          "Rt": 131.449278,
          "Velocidade": 89,
          "greide": "0.003%"
         },
         {
          "Ft": 92.96066666666665,
          "Rt": 132.72979999999998,
          "Velocidade": 90,
          "greide": "0.003%"
         },
         {
          "Ft": 91.93912087912086,
          "Rt": 134.01855799999998,
          "Velocidade": 91,
          "greide": "0.003%"
         },
         {
          "Ft": 90.93978260869564,
          "Rt": 135.315552,
          "Velocidade": 92,
          "greide": "0.003%"
         },
         {
          "Ft": 89.96193548387096,
          "Rt": 136.620782,
          "Velocidade": 93,
          "greide": "0.003%"
         },
         {
          "Ft": 89.00489361702127,
          "Rt": 137.934248,
          "Velocidade": 94,
          "greide": "0.003%"
         },
         {
          "Ft": 88.06799999999998,
          "Rt": 139.25594999999998,
          "Velocidade": 95,
          "greide": "0.003%"
         },
         {
          "Ft": 87.15062499999999,
          "Rt": 140.58588799999998,
          "Velocidade": 96,
          "greide": "0.003%"
         },
         {
          "Ft": 86.2521649484536,
          "Rt": 141.92406199999996,
          "Velocidade": 97,
          "greide": "0.003%"
         },
         {
          "Ft": 85.37204081632652,
          "Rt": 143.27047199999998,
          "Velocidade": 98,
          "greide": "0.003%"
         },
         {
          "Ft": 84.50969696969696,
          "Rt": 144.625118,
          "Velocidade": 99,
          "greide": "0.003%"
         },
         {
          "Ft": 83.6646,
          "Rt": 145.988,
          "Velocidade": 100,
          "greide": "0.003%"
         },
         {
          "Ft": 82.83623762376237,
          "Rt": 147.359118,
          "Velocidade": 101,
          "greide": "0.003%"
         },
         {
          "Ft": 82.02411764705882,
          "Rt": 148.73847199999997,
          "Velocidade": 102,
          "greide": "0.003%"
         },
         {
          "Ft": 81.22776699029126,
          "Rt": 150.126062,
          "Velocidade": 103,
          "greide": "0.003%"
         },
         {
          "Ft": 80.44673076923075,
          "Rt": 151.52188799999996,
          "Velocidade": 104,
          "greide": "0.003%"
         },
         {
          "Ft": 79.68057142857143,
          "Rt": 152.92595,
          "Velocidade": 105,
          "greide": "0.003%"
         },
         {
          "Ft": 78.92886792452829,
          "Rt": 154.338248,
          "Velocidade": 106,
          "greide": "0.003%"
         },
         {
          "Ft": 78.19121495327101,
          "Rt": 155.758782,
          "Velocidade": 107,
          "greide": "0.003%"
         },
         {
          "Ft": 77.46722222222222,
          "Rt": 157.18755199999998,
          "Velocidade": 108,
          "greide": "0.003%"
         },
         {
          "Ft": 76.75651376146789,
          "Rt": 158.624558,
          "Velocidade": 109,
          "greide": "0.003%"
         },
         {
          "Ft": 780,
          "Rt": 44.62551799999999,
          "Velocidade": 1,
          "greide": "-0.012%"
         },
         {
          "Ft": 780,
          "Rt": 45.181271999999986,
          "Velocidade": 2,
          "greide": "-0.012%"
         },
         {
          "Ft": 780,
          "Rt": 45.74526199999999,
          "Velocidade": 3,
          "greide": "-0.012%"
         },
         {
          "Ft": 780,
          "Rt": 46.317488,
          "Velocidade": 4,
          "greide": "-0.012%"
         },
         {
          "Ft": 780,
          "Rt": 46.897949999999994,
          "Velocidade": 5,
          "greide": "-0.012%"
         },
         {
          "Ft": 780,
          "Rt": 47.486648,
          "Velocidade": 6,
          "greide": "-0.012%"
         },
         {
          "Ft": 780,
          "Rt": 48.083582,
          "Velocidade": 7,
          "greide": "-0.012%"
         },
         {
          "Ft": 780,
          "Rt": 48.688751999999994,
          "Velocidade": 8,
          "greide": "-0.012%"
         },
         {
          "Ft": 780,
          "Rt": 49.302158,
          "Velocidade": 9,
          "greide": "-0.012%"
         },
         {
          "Ft": 780,
          "Rt": 49.923799999999986,
          "Velocidade": 10,
          "greide": "-0.012%"
         },
         {
          "Ft": 760.5872727272726,
          "Rt": 50.55367799999999,
          "Velocidade": 11,
          "greide": "-0.012%"
         },
         {
          "Ft": 697.2049999999999,
          "Rt": 51.191791999999985,
          "Velocidade": 12,
          "greide": "-0.012%"
         },
         {
          "Ft": 643.573846153846,
          "Rt": 51.838142,
          "Velocidade": 13,
          "greide": "-0.012%"
         },
         {
          "Ft": 597.6042857142857,
          "Rt": 52.49272799999999,
          "Velocidade": 14,
          "greide": "-0.012%"
         },
         {
          "Ft": 557.7639999999999,
          "Rt": 53.15555,
          "Velocidade": 15,
          "greide": "-0.012%"
         },
         {
          "Ft": 522.90375,
          "Rt": 53.826608,
          "Velocidade": 16,
          "greide": "-0.012%"
         },
         {
          "Ft": 492.14470588235287,
          "Rt": 54.505902000000006,
          "Velocidade": 17,
          "greide": "-0.012%"
         },
         {
          "Ft": 464.8033333333333,
          "Rt": 55.193432,
          "Velocidade": 18,
          "greide": "-0.012%"
         },
         {
          "Ft": 440.34,
          "Rt": 55.88919799999999,
          "Velocidade": 19,
          "greide": "-0.012%"
         },
         {
          "Ft": 418.323,
          "Rt": 56.59319999999999,
          "Velocidade": 20,
          "greide": "-0.012%"
         },
         {
          "Ft": 398.4028571428571,
          "Rt": 57.30543799999999,
          "Velocidade": 21,
          "greide": "-0.012%"
         },
         {
          "Ft": 380.2936363636363,
          "Rt": 58.02591199999999,
          "Velocidade": 22,
          "greide": "-0.012%"
         },
         {
          "Ft": 363.75913043478255,
          "Rt": 58.754622,
          "Velocidade": 23,
          "greide": "-0.012%"
         },
         {
          "Ft": 348.60249999999996,
          "Rt": 59.49156799999999,
          "Velocidade": 24,
          "greide": "-0.012%"
         },
         {
          "Ft": 334.6584,
          "Rt": 60.23675,
          "Velocidade": 25,
          "greide": "-0.012%"
         },
         {
          "Ft": 321.786923076923,
          "Rt": 60.990168,
          "Velocidade": 26,
          "greide": "-0.012%"
         },
         {
          "Ft": 309.8688888888889,
          "Rt": 61.75182199999999,
          "Velocidade": 27,
          "greide": "-0.012%"
         },
         {
          "Ft": 298.8021428571428,
          "Rt": 62.521711999999994,
          "Velocidade": 28,
          "greide": "-0.012%"
         },
         {
          "Ft": 288.4986206896551,
          "Rt": 63.299837999999994,
          "Velocidade": 29,
          "greide": "-0.012%"
         },
         {
          "Ft": 278.88199999999995,
          "Rt": 64.08619999999999,
          "Velocidade": 30,
          "greide": "-0.012%"
         },
         {
          "Ft": 269.8858064516129,
          "Rt": 64.880798,
          "Velocidade": 31,
          "greide": "-0.012%"
         },
         {
          "Ft": 261.451875,
          "Rt": 65.683632,
          "Velocidade": 32,
          "greide": "-0.012%"
         },
         {
          "Ft": 253.52909090909088,
          "Rt": 66.49470199999999,
          "Velocidade": 33,
          "greide": "-0.012%"
         },
         {
          "Ft": 246.07235294117643,
          "Rt": 67.314008,
          "Velocidade": 34,
          "greide": "-0.012%"
         },
         {
          "Ft": 239.04171428571425,
          "Rt": 68.14155,
          "Velocidade": 35,
          "greide": "-0.012%"
         },
         {
          "Ft": 232.40166666666664,
          "Rt": 68.97732799999999,
          "Velocidade": 36,
          "greide": "-0.012%"
         },
         {
          "Ft": 226.1205405405405,
          "Rt": 69.82134199999999,
          "Velocidade": 37,
          "greide": "-0.012%"
         },
         {
          "Ft": 220.17,
          "Rt": 70.67359199999999,
          "Velocidade": 38,
          "greide": "-0.012%"
         },
         {
          "Ft": 214.52461538461537,
          "Rt": 71.53407800000001,
          "Velocidade": 39,
          "greide": "-0.012%"
         },
         {
          "Ft": 209.1615,
          "Rt": 72.4028,
          "Velocidade": 40,
          "greide": "-0.012%"
         },
         {
          "Ft": 204.05999999999997,
          "Rt": 73.27975799999999,
          "Velocidade": 41,
          "greide": "-0.012%"
         },
         {
          "Ft": 199.20142857142855,
          "Rt": 74.164952,
          "Velocidade": 42,
          "greide": "-0.012%"
         },
         {
          "Ft": 194.5688372093023,
          "Rt": 75.058382,
          "Velocidade": 43,
          "greide": "-0.012%"
         },
         {
          "Ft": 190.14681818181816,
          "Rt": 75.960048,
          "Velocidade": 44,
          "greide": "-0.012%"
         },
         {
          "Ft": 185.9213333333333,
          "Rt": 76.86994999999999,
          "Velocidade": 45,
          "greide": "-0.012%"
         },
         {
          "Ft": 181.87956521739127,
          "Rt": 77.78808799999999,
          "Velocidade": 46,
          "greide": "-0.012%"
         },
         {
          "Ft": 178.00978723404253,
          "Rt": 78.71446199999998,
          "Velocidade": 47,
          "greide": "-0.012%"
         },
         {
          "Ft": 174.30124999999998,
          "Rt": 79.649072,
          "Velocidade": 48,
          "greide": "-0.012%"
         },
         {
          "Ft": 170.74408163265304,
          "Rt": 80.591918,
          "Velocidade": 49,
          "greide": "-0.012%"
         },
         {
          "Ft": 167.3292,
          "Rt": 81.54299999999999,
          "Velocidade": 50,
          "greide": "-0.012%"
         },
         {
          "Ft": 164.04823529411763,
          "Rt": 82.50231799999999,
          "Velocidade": 51,
          "greide": "-0.012%"
         },
         {
          "Ft": 160.8934615384615,
          "Rt": 83.46987199999998,
          "Velocidade": 52,
          "greide": "-0.012%"
         },
         {
          "Ft": 157.85773584905658,
          "Rt": 84.44566199999998,
          "Velocidade": 53,
          "greide": "-0.012%"
         },
         {
          "Ft": 154.93444444444444,
          "Rt": 85.42968799999998,
          "Velocidade": 54,
          "greide": "-0.012%"
         },
         {
          "Ft": 152.11745454545454,
          "Rt": 86.42194999999997,
          "Velocidade": 55,
          "greide": "-0.012%"
         },
         {
          "Ft": 149.4010714285714,
          "Rt": 87.42244799999999,
          "Velocidade": 56,
          "greide": "-0.012%"
         },
         {
          "Ft": 146.77999999999997,
          "Rt": 88.43118199999999,
          "Velocidade": 57,
          "greide": "-0.012%"
         },
         {
          "Ft": 144.24931034482756,
          "Rt": 89.44815200000001,
          "Velocidade": 58,
          "greide": "-0.012%"
         },
         {
          "Ft": 141.804406779661,
          "Rt": 90.47335799999999,
          "Velocidade": 59,
          "greide": "-0.012%"
         },
         {
          "Ft": 139.44099999999997,
          "Rt": 91.50679999999998,
          "Velocidade": 60,
          "greide": "-0.012%"
         },
         {
          "Ft": 137.1550819672131,
          "Rt": 92.54847799999997,
          "Velocidade": 61,
          "greide": "-0.012%"
         },
         {
          "Ft": 134.94290322580645,
          "Rt": 93.59839199999999,
          "Velocidade": 62,
          "greide": "-0.012%"
         },
         {
          "Ft": 132.80095238095237,
          "Rt": 94.65654199999997,
          "Velocidade": 63,
          "greide": "-0.012%"
         },
         {
          "Ft": 130.7259375,
          "Rt": 95.72292799999998,
          "Velocidade": 64,
          "greide": "-0.012%"
         },
         {
          "Ft": 128.7147692307692,
          "Rt": 96.79754999999999,
          "Velocidade": 65,
          "greide": "-0.012%"
         },
         {
          "Ft": 126.76454545454544,
          "Rt": 97.88040799999999,
          "Velocidade": 66,
          "greide": "-0.012%"
         },
         {
          "Ft": 124.87253731343282,
          "Rt": 98.97150199999997,
          "Velocidade": 67,
          "greide": "-0.012%"
         },
         {
          "Ft": 123.03617647058822,
          "Rt": 100.07083199999998,
          "Velocidade": 68,
          "greide": "-0.012%"
         },
         {
          "Ft": 121.25304347826085,
          "Rt": 101.17839799999999,
          "Velocidade": 69,
          "greide": "-0.012%"
         },
         {
          "Ft": 119.52085714285712,
          "Rt": 102.29419999999998,
          "Velocidade": 70,
          "greide": "-0.012%"
         },
         {
          "Ft": 117.83746478873238,
          "Rt": 103.41823799999999,
          "Velocidade": 71,
          "greide": "-0.012%"
         },
         {
          "Ft": 116.20083333333332,
          "Rt": 104.550512,
          "Velocidade": 72,
          "greide": "-0.012%"
         },
         {
          "Ft": 114.6090410958904,
          "Rt": 105.69102199999999,
          "Velocidade": 73,
          "greide": "-0.012%"
         },
         {
          "Ft": 113.06027027027025,
          "Rt": 106.839768,
          "Velocidade": 74,
          "greide": "-0.012%"
         },
         {
          "Ft": 111.55279999999999,
          "Rt": 107.99674999999999,
          "Velocidade": 75,
          "greide": "-0.012%"
         },
         {
          "Ft": 110.085,
          "Rt": 109.16196799999999,
          "Velocidade": 76,
          "greide": "-0.012%"
         },
         {
          "Ft": 108.65532467532466,
          "Rt": 110.335422,
          "Velocidade": 77,
          "greide": "-0.012%"
         },
         {
          "Ft": 107.26230769230769,
          "Rt": 111.51711199999998,
          "Velocidade": 78,
          "greide": "-0.012%"
         },
         {
          "Ft": 105.90455696202531,
          "Rt": 112.70703799999998,
          "Velocidade": 79,
          "greide": "-0.012%"
         },
         {
          "Ft": 104.58075,
          "Rt": 113.90519999999998,
          "Velocidade": 80,
          "greide": "-0.012%"
         },
         {
          "Ft": 103.28962962962962,
          "Rt": 115.11159799999997,
          "Velocidade": 81,
          "greide": "-0.012%"
         },
         {
          "Ft": 102.02999999999999,
          "Rt": 116.326232,
          "Velocidade": 82,
          "greide": "-0.012%"
         },
         {
          "Ft": 100.80072289156625,
          "Rt": 117.54910199999999,
          "Velocidade": 83,
          "greide": "-0.012%"
         },
         {
          "Ft": 99.60071428571428,
          "Rt": 118.780208,
          "Velocidade": 84,
          "greide": "-0.012%"
         },
         {
          "Ft": 98.42894117647057,
          "Rt": 120.01955,
          "Velocidade": 85,
          "greide": "-0.012%"
         },
         {
          "Ft": 97.28441860465115,
          "Rt": 121.26712799999999,
          "Velocidade": 86,
          "greide": "-0.012%"
         },
         {
          "Ft": 96.16620689655171,
          "Rt": 122.52294199999999,
          "Velocidade": 87,
          "greide": "-0.012%"
         },
         {
          "Ft": 95.07340909090908,
          "Rt": 123.78699199999998,
          "Velocidade": 88,
          "greide": "-0.012%"
         },
         {
          "Ft": 94.00516853932584,
          "Rt": 125.05927799999999,
          "Velocidade": 89,
          "greide": "-0.012%"
         },
         {
          "Ft": 92.96066666666665,
          "Rt": 126.33979999999998,
          "Velocidade": 90,
          "greide": "-0.012%"
         },
         {
          "Ft": 91.93912087912086,
          "Rt": 127.62855800000001,
          "Velocidade": 91,
          "greide": "-0.012%"
         },
         {
          "Ft": 90.93978260869564,
          "Rt": 128.92555199999998,
          "Velocidade": 92,
          "greide": "-0.012%"
         },
         {
          "Ft": 89.96193548387096,
          "Rt": 130.230782,
          "Velocidade": 93,
          "greide": "-0.012%"
         },
         {
          "Ft": 89.00489361702127,
          "Rt": 131.54424799999998,
          "Velocidade": 94,
          "greide": "-0.012%"
         },
         {
          "Ft": 88.06799999999998,
          "Rt": 132.86595,
          "Velocidade": 95,
          "greide": "-0.012%"
         },
         {
          "Ft": 87.15062499999999,
          "Rt": 134.195888,
          "Velocidade": 96,
          "greide": "-0.012%"
         },
         {
          "Ft": 86.2521649484536,
          "Rt": 135.53406199999998,
          "Velocidade": 97,
          "greide": "-0.012%"
         },
         {
          "Ft": 85.37204081632652,
          "Rt": 136.880472,
          "Velocidade": 98,
          "greide": "-0.012%"
         },
         {
          "Ft": 84.50969696969696,
          "Rt": 138.23511799999997,
          "Velocidade": 99,
          "greide": "-0.012%"
         },
         {
          "Ft": 83.6646,
          "Rt": 139.598,
          "Velocidade": 100,
          "greide": "-0.012%"
         },
         {
          "Ft": 82.83623762376237,
          "Rt": 140.96911799999998,
          "Velocidade": 101,
          "greide": "-0.012%"
         },
         {
          "Ft": 82.02411764705882,
          "Rt": 142.348472,
          "Velocidade": 102,
          "greide": "-0.012%"
         },
         {
          "Ft": 81.22776699029126,
          "Rt": 143.73606199999998,
          "Velocidade": 103,
          "greide": "-0.012%"
         },
         {
          "Ft": 80.44673076923075,
          "Rt": 145.13188799999998,
          "Velocidade": 104,
          "greide": "-0.012%"
         },
         {
          "Ft": 79.68057142857143,
          "Rt": 146.53594999999999,
          "Velocidade": 105,
          "greide": "-0.012%"
         },
         {
          "Ft": 78.92886792452829,
          "Rt": 147.94824799999998,
          "Velocidade": 106,
          "greide": "-0.012%"
         },
         {
          "Ft": 78.19121495327101,
          "Rt": 149.368782,
          "Velocidade": 107,
          "greide": "-0.012%"
         },
         {
          "Ft": 77.46722222222222,
          "Rt": 150.797552,
          "Velocidade": 108,
          "greide": "-0.012%"
         },
         {
          "Ft": 76.75651376146789,
          "Rt": 152.234558,
          "Velocidade": 109,
          "greide": "-0.012%"
         }
        ]
       },
       "encoding": {
        "x": {
         "field": "Velocidade",
         "type": "quantitative"
        },
        "y": {
         "field": "Ft",
         "type": "quantitative"
        }
       },
       "mark": "area"
      },
      "image/png": "[encoded data removed]",
      "text/plain": [
       "<VegaLite 2 object>\n",
       "\n",
       "If you see this message, it means the renderer has not been properly enabled\n",
       "for the frontend that you are using. For more information, see\n",
       "https://altair-viz.github.io/user_guide/troubleshooting.html\n"
      ]
     },
     "execution_count": 35,
     "metadata": {},
     "output_type": "execute_result"
    }
   ],
   "source": [
    "alt.Chart(data).mark_area().encode(\n",
    "    x='Velocidade',\n",
    "    y='Ft')"
   ]
  },
  {
   "cell_type": "code",
   "execution_count": null,
   "metadata": {},
   "outputs": [],
   "source": []
  }
 ],
 "metadata": {
  "kernelspec": {
   "display_name": "Python 3",
   "language": "python",
   "name": "python3"
  },
  "language_info": {
   "codemirror_mode": {
    "name": "ipython",
    "version": 3
   },
   "file_extension": ".py",
   "mimetype": "text/x-python",
   "name": "python",
   "nbconvert_exporter": "python",
   "pygments_lexer": "ipython3",
   "version": "3.7.1"
  }
 },
 "nbformat": 4,
 "nbformat_minor": 2
}
