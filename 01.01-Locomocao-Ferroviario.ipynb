{
 "cells": [
  {
   "cell_type": "markdown",
   "metadata": {
    "slideshow": {
     "slide_type": "slide"
    }
   },
   "source": [
    "# Mecânica de Locomoção \n",
    "# *Veículos Ferroviários*\n",
    "---\n",
    "*prof. André Luiz Cunha*"
   ]
  },
  {
   "cell_type": "markdown",
   "metadata": {},
   "source": [
    "## 1. Fundamentação Teórica"
   ]
  },
  {
   "cell_type": "markdown",
   "metadata": {},
   "source": [
    "Como vimos, a fundamentação básica de Mecânica de Locomoção é derivada da 2ª Lei de Newton, e a equação fundamental é:\n",
    "\n",
    "$$F_{R} = m \\cdot a$$\n",
    "Sendo: \n",
    "- $F_{R}$ a Força Resultante [N];\n",
    "- $m$ a massa do veículo [kg];\n",
    "- $a$ a aceleração [m/s²].\n",
    "\n",
    "O objetivo do estudo do *desempenho de veículos ferroviários* é determinar a velocidade de equilíbrio, assim como a capacidade de carga a ser transportada, dimensionar o comprimento máximo da composição ferroviária e verificar a eficiência de frenagem da composição."
   ]
  },
  {
   "cell_type": "markdown",
   "metadata": {},
   "source": [
    "---\n",
    "## 2. Força Tratora em Locomotivas Diesel-Elétricas\n",
    "\n",
    "A força tratora em Locomotivas Diesel-Elétrica disponível para o deslocamento veicular é o mínimo entre a Força Motriz ($F_{t}$) e a Força Motriz Máxima ($F_{tmax}$).\n",
    "\n",
    "$$F = min(F_{t}, F_{tmax})$$"
   ]
  },
  {
   "cell_type": "markdown",
   "metadata": {},
   "source": [
    "### 2.1. Força Motriz\n",
    "\n",
    "A equação para a força tratora em veículos ferroviários é em função da unidade da potência do motor, que pode ser em kW (quilo Watt), hp (horsepower) ou cv (cavalo-vapor).\n",
    "\n",
    "\\begin{array}{l}\n",
    "    F_{t} = \\eta \\cdot 3600 \\cdot \\frac{P_{kW}}{V} \\\\\n",
    "    F_{t} = \\eta \\cdot 2685 \\cdot \\frac{P_{hp}}{V} \\\\\n",
    "    F_{t} = \\eta \\cdot 2649 \\cdot \\frac{P_{cv}}{V} \n",
    "\\end{array}\n",
    "\n",
    "\n",
    "Em que:\n",
    "- $F_{t}$ : força tratora em [N];\n",
    "- $\\eta$  : eficiência de transmissão;\n",
    "- $P$ : potência do motor na unidade indicada [W - Watt, hp - horsepower, cv - cavalo-vapor];\n",
    "- $V$ : velocidade do veículo em [km/h].\n",
    "\n",
    "\n",
    "Para locomotivas diesel-elétrica, um valor coerente para a constante $\\eta$ pode ser 0,81."
   ]
  },
  {
   "cell_type": "code",
   "execution_count": 18,
   "metadata": {},
   "outputs": [],
   "source": [
    "# Traction Force Function\n",
    "def Ft(P, V, unit='kW', n=0.81):\n",
    "    '''Ft in kN'''\n",
    "    k = 3600\n",
    "    if unit == 'hp':\n",
    "        k = 2685\n",
    "    if unit == 'cv':\n",
    "        k = 2649\n",
    "    return (n * k * P)/ (V * 1000) #kN\n"
   ]
  },
  {
   "cell_type": "code",
   "execution_count": 30,
   "metadata": {},
   "outputs": [
    {
     "data": {
      "text/plain": [
       "218.7"
      ]
     },
     "execution_count": 30,
     "metadata": {},
     "output_type": "execute_result"
    }
   ],
   "source": [
    "Ft(3000,40)"
   ]
  },
  {
   "cell_type": "markdown",
   "metadata": {},
   "source": [
    "### 2.2. Tração por aderência\n",
    "A tração por aderência determina qual a maior força motriz que pode ser utilizada para movimentar o veículo. A limitação pela aderência é mais notada nas velocidades mais baixas, quando o veículo está iniciando o movimento e exigindo mais força para sair da inércia.\n",
    "\n",
    "Quando uma roda motriz é submetida a um torque $T$, a força de tração na roda deve ser menor ou igual ao atrito com o pavimento. Se a força motriz $F_{t}$ for maior que o atrito da roda com o trilho ($F_{a}$), a roda patina, pois não há atrito suficiente, e a locomotiva não sai do lugar. Se $F_{t} \\lt F_{a}$, então a força de atrito é suficiente para impedir que a roda patine e então a locomotiva é capaz de se movimentar, sendo propelida pela força $F_{t}$.\n",
    "\n",
    "Assim, a tração por aderência, ou força motriz máxima, ($F_{tmax}$) é função do peso aderente da locomotiva e do coeficiente de atrito:\n",
    "\n",
    "$$F_{tmax} = f \\cdot T_{d}$$\n",
    "Em que:\n",
    "- $F_{tmax}$ é a força motriz máxima em [N];\n",
    "- $f$ é o coeficiente de aderência;\n",
    "- $T_{d}$ é o peso aderente da locomotiva [N].\n",
    "\n",
    "\n",
    "O coeficiente de aderência $f$ não é um valor constante, mas varia com as condições da superfície do trilho: seca, molhada, limpa, suja, e etc. A tabela a seguir apresenta os valores típicos de aderência - Fonte: (Hay, 1982).\n",
    "\n",
    "\n",
    "| Estado do trilho | Aderência $f$ |\n",
    "| :--------------- | :------------ |\n",
    "| totalmente seco e limpo | 0,33 |\n",
    "| lavado pela chuva | 0,33 |\n",
    "| seco e limpo | 0,22 |\n",
    "| seco | 0,20 |\n",
    "| molhado pela chuva | 0,14 |\n",
    "| úmido de orvalho | 0,13 |\n",
    "| úmido e sujo | 0,11 |\n",
    "| sujo com óleo | 0,10 |"
   ]
  },
  {
   "cell_type": "code",
   "execution_count": 20,
   "metadata": {},
   "outputs": [],
   "source": [
    "# Maximum Tractive force\n",
    "def Ftmax(Td, f=0.30):\n",
    "    '''Td in kN'''\n",
    "    return (Td * f) # kN"
   ]
  },
  {
   "cell_type": "code",
   "execution_count": 21,
   "metadata": {},
   "outputs": [
    {
     "data": {
      "text/plain": [
       "1500.0"
      ]
     },
     "execution_count": 21,
     "metadata": {},
     "output_type": "execute_result"
    }
   ],
   "source": [
    "Ftmax(5000)"
   ]
  },
  {
   "cell_type": "code",
   "execution_count": 22,
   "metadata": {},
   "outputs": [],
   "source": [
    "import matplotlib.pyplot as plt"
   ]
  },
  {
   "cell_type": "code",
   "execution_count": 31,
   "metadata": {},
   "outputs": [
    {
     "data": {
      "image/png": "[encoded data removed]",
      "text/plain": [
       "<Figure size 432x288 with 1 Axes>"
      ]
     },
     "metadata": {
      "needs_background": "light"
     },
     "output_type": "display_data"
    }
   ],
   "source": [
    "V = list(range(1,121))\n",
    "P = 3000 #hp\n",
    "Td = 1000 #kN = 100 toneladas\n",
    "F = []\n",
    "\n",
    "for v in V:\n",
    "    F.append(min(Ft(P, v), Ftmax(Td)))\n",
    "\n",
    "V.append(120)\n",
    "F.append(0.0)\n",
    "\n",
    "#plt.figure(figsize=(10,10))\n",
    "plt.plot(V, F, linewidth=3)\n",
    "\n",
    "plt.xlabel('Velocidade [km/h]', size=18)\n",
    "plt.ylabel('Força Tratora [kN]', size=18)\n",
    "plt.grid(True)\n",
    "plt.axis([0, 150, 0, 320])\n",
    "plt.show()"
   ]
  },
  {
   "cell_type": "code",
   "execution_count": 25,
   "metadata": {},
   "outputs": [],
   "source": [
    "import numpy as np  "
   ]
  },
  {
   "cell_type": "code",
   "execution_count": 43,
   "metadata": {},
   "outputs": [],
   "source": [
    "Varray = np.arange(1,121,1)\n",
    "Parray = np.arange(0.,1.1,.1)\n",
    "Vm, Pm = np.meshgrid(Varray,Parray)\n",
    "\n",
    "Fm = Ft(P*Pm,Vm,'hp')\n",
    "Fm[Fm > Ftmax(Td)] = Ftmax(Td)"
   ]
  },
  {
   "cell_type": "code",
   "execution_count": 44,
   "metadata": {},
   "outputs": [
    {
     "data": {
      "image/png": "[encoded data removed]",
      "text/plain": [
       "<Figure size 432x288 with 2 Axes>"
      ]
     },
     "metadata": {
      "needs_background": "light"
     },
     "output_type": "display_data"
    }
   ],
   "source": [
    "fig, ax = plt.subplots(nrows=1)\n",
    "\n",
    "im = ax.pcolormesh(Vm, Fm, Pm,cmap='jet')\n",
    "fig.colorbar(im, ax=ax)\n",
    "ax.set_title('pcolormesh')\n",
    "plt.show()"
   ]
  },
  {
   "cell_type": "markdown",
   "metadata": {},
   "source": [
    "---\n",
    "## 3. Resistências ao Movimento"
   ]
  },
  {
   "cell_type": "markdown",
   "metadata": {},
   "source": [
    "Quando uma composição ferroviária encontra-se em movimento, surgem diversas forças contrários ao deslocamento, denominadas de *resistência ao movimento*. As componentes dessa força são derivadas do contato da roda com o trilho, do deslocamento de ar provocado pelo veículo, e a própria ação da gravidade -- que pode dificultar ou facilitar o deslocamento do veículo.\n",
    "\n",
    "A *Resistência Total ao Movimento* $R$ é dada por quatro componentes:\n",
    "\n",
    "$$R = R_{r} + R_{a} + R_{g} + R_{c}$$\n",
    "\n",
    "Sendo:\n",
    "- $R$ : resistência total ao movimento em [N];\n",
    "- $R_{r}$ : resistência ao rolamento em [N];\n",
    "- $R_{a}$ : resistência aerodinâmica em [N];\n",
    "- $R_{g}$ : resistência de rampa em [N};\n",
    "- $R_{c}$ : resistência de curva em [N].\n",
    "\n",
    "Dessas quatro componentes, a Resistência ao Rolamento ($R_{r}$) e a Aerodinâmica ($R_{a}$) **sempre** estão presentes -- essas duas componentes é denominada *Resistência Inerente* ao Movimento ($R_{I} = R_{r} + R_{a}$)."
   ]
  },
  {
   "cell_type": "markdown",
   "metadata": {},
   "source": [
    "### 3.1. Resitência ao rolamento\n",
    "Um abordagem empírica para estimar a resitência ao rolamento foi proposta por William S. Davis Jr., em 1926, e ficou conhecido como a *fórmula de Davis*. Os ensaios foram realizados nos EUA e o modelo pode ser aplicado em qualquer composição ferroviária ou metroviária para estimar a resitência ao rolamento a partir de parâmetros dos veículos, tais como peso, número de eixos e etc.\n",
    "\n",
    "$$R_{r} = \\bigg( c_{1} + \\frac{c_{2} \\cdot x}{G} + c_{3} \\cdot V \\bigg) \\cdot G$$\n",
    "\n",
    "Sendo:\n",
    "- $R_{r}$ : resistência ao rolamento [N];\n",
    "- $x$ : número de eixos da locomotiva ou vagão;\n",
    "- $G$ : peso da locomotiva ou vagão [kN];\n",
    "- $V$ : velocidade [km/h];\n",
    "- $c_{1}$ : coeficiente de deformação da roda e do trilho;\n",
    "- $c_{2}$ : coeficiente do atrito dos mancais;\n",
    "- $c_{3}$ : coeficiente do atrito entre friso das rodas e o trilho.\n",
    "\n",
    "| Coeficiente | Locomotiva e Vagão de Passageiro | Vagão de Carga |\n",
    "| :---------- | :------------------------------- | :------------- |\n",
    "| $c_{1}$ | 0,65 | 0,65 |\n",
    "| $c_{2}$ | 125 | 125 |\n",
    "| $c_{3}$ | 0,009 | 0,013 |\n",
    "\n",
    "\n",
    "### 3.2. Resistência aerodinâmica\n",
    "\n",
    "$$R_{a} = c_{a} \\cdot A \\cdot V^{2}$$\n",
    "\n",
    "Em que:\n",
    "- $R_{a}$ : resistência aerodinâmica [N];\n",
    "- $c_{a}$ : coeficiente aerodinâmico;\n",
    "- $A$ : áerea frontal [m²];\n",
    "- $V$ : velocidade [km/h].\n",
    "\n",
    "|Tipo de veículo | Área [m²] | $c_{a}$ |\n",
    "| :------------- | :-------- | :------ |\n",
    "| Locomotiva de carga | 9,0 - 14,5 | 0,046 |\n",
    "| Locomotiva de passageiros | 9,0 - 11,0 | 0,031 |\n",
    "| Vagão de carga | 7,5 - 8,5 | 0,009 |\n",
    "| Vagão de passageiros | 10,0 - 11,0 | 0,006 |\n",
    "\n",
    "\n",
    "### 3.3. Resistência de rampa\n",
    "$$R_{g} = 10 \\cdot G \\cdot i$$\n",
    "Sendo:\n",
    "- $R_{g}$ : resistência de rampa [N];\n",
    "- $G$ : peso da locomotiva ou vagão [kN];\n",
    "- $i$ : declividade [%].\n",
    "\n",
    "\n",
    "### 3.4. Resistência de curva\n",
    "\n",
    "$$R_{c} = 698 \\cdot \\frac{G}{r}$$\n",
    "Em que:\n",
    "- $R_{c}$ : resistência de curva [N];\n",
    "- $G$ : peso da locomotiva ou vagão [kN];\n",
    "- $r$ : raio de curva [m]."
   ]
  },
  {
   "cell_type": "code",
   "execution_count": 45,
   "metadata": {},
   "outputs": [],
   "source": [
    "'''Funções de Resistencia ao movimento'''\n",
    "# Rolamento\n",
    "def Rr(x, G, V, tipo='locomotiva'):\n",
    "    c1 = 0.65\n",
    "    c2 = 125\n",
    "    if tipo=='carga':\n",
    "        c3 = 0.013\n",
    "    else:\n",
    "        c3 = 0.009\n",
    "        \n",
    "    return (c1 + (c2 * x)/G + c3 * V) * G / 1000 # [kN]\n",
    "\n",
    "def Ra(A, V, tipo='locomotiva'):\n",
    "    if tipo=='locomotiva passageiro':\n",
    "        ca = 0.031\n",
    "    elif tipo == 'carga':\n",
    "        ca = 0.009\n",
    "    elif tipo == 'passageiro':\n",
    "        ca = 0.006\n",
    "    else:\n",
    "        ca = 0.046\n",
    "    return ca * A * V * V / 1000 # [kN]\n",
    "\n",
    "def Rg(G, i):\n",
    "    if i:\n",
    "        return 10 * G * i / 1000 # [kN]\n",
    "    return 0\n",
    "\n",
    "def Rc(G, r):\n",
    "    if r:\n",
    "        return ((698 * G)/r)/1000 # [kN] \n",
    "    return 0"
   ]
  }
 ],
 "metadata": {
  "kernelspec": {
   "display_name": "Python 3",
   "language": "python",
   "name": "python3"
  },
  "language_info": {
   "codemirror_mode": {
    "name": "ipython",
    "version": 3
   },
   "file_extension": ".py",
   "mimetype": "text/x-python",
   "name": "python",
   "nbconvert_exporter": "python",
   "pygments_lexer": "ipython3",
   "version": "3.7.1"
  }
 },
 "nbformat": 4,
 "nbformat_minor": 2
}
