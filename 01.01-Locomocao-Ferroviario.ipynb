{
 "cells": [
  {
   "cell_type": "markdown",
   "metadata": {
    "slideshow": {
     "slide_type": "slide"
    }
   },
   "source": [
    "# Mecânica de Locomoção: \n",
    "## *Veículos Ferroviários*\n",
    "---\n",
    "*prof. André Luiz Cunha*"
   ]
  },
  {
   "cell_type": "markdown",
   "metadata": {},
   "source": [
    "## Introdução"
   ]
  },
  {
   "cell_type": "markdown",
   "metadata": {
    "slideshow": {
     "slide_type": "slide"
    }
   },
   "source": [
    "O princípio básico da Mecânica de Locomoção de Veículos é proveniente da Física:\n",
    "$$\\vec{F}_{R} = m \\times \\vec{a}$$\n",
    "Sendo: \n",
    "- $\\vec{F}_{R}$ a Força Resultante;\n",
    "- $m$ a massa do veículo;\n",
    "- $\\vec{a}$ a aceleração.\n",
    "\n",
    "\n",
    "Sabe-se que a $\\vec{F}_{R}$ é a somatório das forças envolvidas em cada eixo (X, Y, Z). Assim:\n",
    "$$F_{t} - R_{t} = m \\cdot a$$\n",
    "Sendo: \n",
    "- $F_{t}$ a Força Tratora;\n",
    "- $R_{t}$ a Resistência Total ao movimento.\n",
    "\n",
    "<!--\n",
    "![Forças Atuantes](\\_imgs\\forcas.png)\n",
    "-->\n",
    "\n",
    "<img src=\".\\_imgs\\forcas.png\" alt=\"Forças Atuantes\" width=\"500\">"
   ]
  },
  {
   "cell_type": "markdown",
   "metadata": {
    "slideshow": {
     "slide_type": "slide"
    }
   },
   "source": [
    "### Trabalho da Força"
   ]
  },
  {
   "cell_type": "markdown",
   "metadata": {},
   "source": [
    "O trabalho $W$ realizado por uma determinada força $F$ pode ser expresso por:\n",
    "\n",
    "$$W_{F} = F \\cdot S$$\n",
    "Em que: \n",
    "- $W_{F}$ Trabalho da Força [N.m ou J];\n",
    "- $F$ Força resultante [N];\n",
    "- $S$ deslocamento produzido pela força [m]"
   ]
  },
  {
   "cell_type": "markdown",
   "metadata": {
    "slideshow": {
     "slide_type": "slide"
    }
   },
   "source": [
    "### Potência"
   ]
  },
  {
   "cell_type": "markdown",
   "metadata": {},
   "source": [
    "A potência $P$ é determinada por:\n",
    "\n",
    "$$P = \\frac{dW_{F}}{dt} = \\frac{d(F \\cdot S)}{dt} = F \\cdot \\frac{dS}{dt}$$\n",
    "\n",
    "$$P = F \\cdot V$$\n",
    "Em que: \n",
    "- $P$ Potência [N.m/s ou W]\n",
    "- $W_{F}$ Trabalho da Força [N.m ou J];\n",
    "- $F$ Força [N];\n",
    "- $S$ distância [m]\n",
    "- $V$ velocidade [m/s]"
   ]
  },
  {
   "cell_type": "markdown",
   "metadata": {
    "slideshow": {
     "slide_type": "slide"
    }
   },
   "source": [
    "### Força Motriz"
   ]
  },
  {
   "cell_type": "markdown",
   "metadata": {
    "slideshow": {
     "slide_type": "fragment"
    }
   },
   "source": [
    "Assim, a força motriz, de propulsão ou tratora, é função da potência do motor e a velocidade:\n",
    "\n",
    "$$F_{t} = \\frac{P}{V}$$\n",
    "Sendo: \n",
    "- $F_{t}$ Força tratora [N];\n",
    "- $P$ Potência [N.m/s ou W];\n",
    "- $V$ velocidade [m/s].\n",
    "\n",
    "Nesta equação é comum utilizar uma constante $k$ para compatibilização de unidades.\n",
    "$$F_{t} = k \\cdot \\frac{P}{V}$$\n",
    "\n",
    "Em que o fator $k$ é função da unidade da potência do motor:\n",
    "\n",
    "| Potência | $k$  |\n",
    "| :------- | ---- |\n",
    "| kW       | 3600 | \n",
    "| hp       | 2685 |\n",
    "| cv       | 2649 |"
   ]
  },
  {
   "cell_type": "code",
   "execution_count": 5,
   "metadata": {},
   "outputs": [],
   "source": [
    "def Ft(P,V,unit='kW'):\n",
    "    k = 3600\n",
    "    if unit == 'cv':\n",
    "        k = 2649\n",
    "    if unit == 'hp':\n",
    "        k = 2685\n",
    "    return (k * P)/V\n",
    "        "
   ]
  },
  {
   "cell_type": "code",
   "execution_count": 6,
   "metadata": {},
   "outputs": [
    {
     "data": {
      "text/plain": [
       "270000.0"
      ]
     },
     "execution_count": 6,
     "metadata": {},
     "output_type": "execute_result"
    }
   ],
   "source": [
    "Ft(3000,40)"
   ]
  },
  {
   "cell_type": "code",
   "execution_count": null,
   "metadata": {},
   "outputs": [],
   "source": []
  }
 ],
 "metadata": {
  "kernelspec": {
   "display_name": "Python 3",
   "language": "python",
   "name": "python3"
  },
  "language_info": {
   "codemirror_mode": {
    "name": "ipython",
    "version": 3
   },
   "file_extension": ".py",
   "mimetype": "text/x-python",
   "name": "python",
   "nbconvert_exporter": "python",
   "pygments_lexer": "ipython3",
   "version": "3.7.1"
  }
 },
 "nbformat": 4,
 "nbformat_minor": 2
}
