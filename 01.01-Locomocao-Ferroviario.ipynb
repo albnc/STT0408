{
 "cells": [
  {
   "cell_type": "markdown",
   "metadata": {
    "slideshow": {
     "slide_type": "slide"
    }
   },
   "source": [
    "# Mecânica de Locomoção \n",
    "# *Veículos Ferroviários*\n",
    "---\n",
    "*prof. André Luiz Cunha*"
   ]
  },
  {
   "cell_type": "code",
   "execution_count": 3,
   "metadata": {},
   "outputs": [],
   "source": [
    "import matplotlib.pyplot as plt\n",
    "import altair as alt\n",
    "from pandas import DataFrame"
   ]
  },
  {
   "cell_type": "markdown",
   "metadata": {},
   "source": [
    "## 1. Fundamentação Teórica"
   ]
  },
  {
   "cell_type": "markdown",
   "metadata": {},
   "source": [
    "Como vimos, a fundamentação básica de Mecânica de Locomoção é derivada da 2ª Lei de Newton, e a equação fundamental é:\n",
    "\n",
    "$$F_{R} = m \\cdot a$$\n",
    "Sendo: \n",
    "- $F_{R}$ a Força Resultante [N];\n",
    "- $m$ a massa do veículo [kg];\n",
    "- $a$ a aceleração [m/s²].\n",
    "\n",
    "O objetivo do estudo do *desempenho de veículos ferroviários* é determinar a velocidade de equilíbrio, assim como a capacidade de carga a ser transportada, dimensionar o comprimento máximo da composição ferroviária e verificar a eficiência de frenagem da composição."
   ]
  },
  {
   "cell_type": "markdown",
   "metadata": {},
   "source": [
    "---\n",
    "## 2. Força Tratora em Locomotivas Diesel-Elétricas\n",
    "\n",
    "A força tratora em Locomotivas Diesel-Elétrica disponível para o deslocamento veicular é o mínimo entre a Força Motriz ($F_{t}$) e a Força Motriz Máxima ($F_{tmax}$).\n",
    "\n",
    "$$F = min(F_{t}, F_{tmax})$$"
   ]
  },
  {
   "cell_type": "markdown",
   "metadata": {},
   "source": [
    "### 2.1. Força Motriz\n",
    "\n",
    "A equação para a força tratora em veículos ferroviários é em função da unidade da potência do motor, que pode ser em kW (quilo Watt), hp (horsepower) ou cv (cavalo-vapor).\n",
    "\n",
    "$$F_{t} = \\eta \\cdot 3600 \\cdot \\frac{P [kW]}{V}$$\n",
    "\n",
    "$$F_{t} = \\eta \\cdot 2685 \\cdot \\frac{P [hp]}{V}$$\n",
    "\n",
    "$$F_{t} = \\eta \\cdot 2649 \\cdot \\frac{P [cv]}{V}$$\n",
    "\n",
    "Em que:\n",
    "- $F_{t}$ é a força tratora em [N];\n",
    "- $P$ é a potência do motor na unidade indicada [W - Watt, hp - horsepower, cv - cavalo-vapor];\n",
    "- $V$ é a velocidade do veículo em [km/h].\n",
    "\n",
    "\n",
    "Para locomotivas diesel-elétrica, um valor coerente para a constante $\\eta$ é 0,81."
   ]
  },
  {
   "cell_type": "code",
   "execution_count": 4,
   "metadata": {},
   "outputs": [],
   "source": [
    "# Traction force funtion\n",
    "def Ft(P, V, unit='kW', n=0.81):\n",
    "    '''Ft in kN'''\n",
    "    k = 3600\n",
    "    if unit == 'hp':\n",
    "        k = 2685\n",
    "    if unit == 'cv':\n",
    "        k = 2649\n",
    "    return (n * k * P)/ (V * 1000) #kN\n"
   ]
  },
  {
   "cell_type": "code",
   "execution_count": 3,
   "metadata": {},
   "outputs": [
    {
     "data": {
      "text/plain": [
       "174.96"
      ]
     },
     "execution_count": 3,
     "metadata": {},
     "output_type": "execute_result"
    }
   ],
   "source": [
    "Ft(3000, 50)"
   ]
  },
  {
   "cell_type": "markdown",
   "metadata": {},
   "source": [
    "### 2.2. Tração por aderência\n",
    "A tração por aderência determina qual a maior força motriz que pode ser utilizada para movimentar o veículo. A limitação pela aderência é mais notada nas velocidades mais baixas, quando o veículo está iniciando o movimento e exigindo mais força para sair da inércia.\n",
    "\n",
    "Quando uma roda motriz é submetida a um torque $T$, a força de tração na roda deve ser menor ou igual ao atrito com o pavimento. Se a força motriz $F_{t}$ for maior que o atrito da roda com o trilho ($F_{a}$), a roda patina, pois não há atrito suficiente, e a locomotiva não sai do lugar. Se $F_{t} \\lt F_{a}$, então a força de atrito é suficiente para impedir que a roda patine e então a locomotiva é capaz de se movimentar, sendo propelida pela força $F_{t}$.\n",
    "\n",
    "Assim, a tração por aderência, ou força motriz máxima, ($F_{tmax}$) é função do peso aderente da locomotiva e do coeficiente de atrito:\n",
    "\n",
    "$$F_{tmax} = f \\cdot T_{d}$$\n",
    "Em que:\n",
    "- $F_{tmax}$ é a força motriz máxima em [N];\n",
    "- $f$ é o coeficiente de aderência;\n",
    "- $T_{d}$ é o peso aderente da locomotiva [N].\n",
    "\n",
    "\n",
    "O coeficiente de aderência $f$ não é um valor constante, mas varia com as condições da superfície do trilho: seca, molhada, limpa, suja, e etc. A tabela a seguir apresenta os valores típicos de aderência - Fonte: (Hay, 1982).\n",
    "\n",
    "\n",
    "| Estado do trilho | Aderência $f$ |\n",
    "| :--------------- | :------------ |\n",
    "| totalmente seco e limpo | 0,33 |\n",
    "| lavado pela chuva | 0,33 |\n",
    "| seco e limpo | 0,22 |\n",
    "| seco | 0,20 |\n",
    "| molhado pela chuva | 0,14 |\n",
    "| úmido de orvalho | 0,13 |\n",
    "| úmido e sujo | 0,11 |\n",
    "| sujo com óleo | 0,10 |"
   ]
  },
  {
   "cell_type": "code",
   "execution_count": 5,
   "metadata": {},
   "outputs": [],
   "source": [
    "# Maximum Traction force funtion\n",
    "def Ftmax(Td, f=0.30):\n",
    "    '''Td in kN'''\n",
    "    return (Td * f) # kN"
   ]
  },
  {
   "cell_type": "code",
   "execution_count": 5,
   "metadata": {},
   "outputs": [
    {
     "data": {
      "text/plain": [
       "1500.0"
      ]
     },
     "execution_count": 5,
     "metadata": {},
     "output_type": "execute_result"
    }
   ],
   "source": [
    "Ftmax(5000)"
   ]
  },
  {
   "cell_type": "code",
   "execution_count": 6,
   "metadata": {},
   "outputs": [
    {
     "data": {
      "image/png": "[encoded data removed]",
      "text/plain": [
       "<Figure size 720x720 with 1 Axes>"
      ]
     },
     "metadata": {
      "needs_background": "light"
     },
     "output_type": "display_data"
    }
   ],
   "source": [
    "V = list(range(1,141))\n",
    "P = 3000 #hp\n",
    "Td = 1000 #kN = 100 toneladas\n",
    "F = []\n",
    "\n",
    "for v in V:\n",
    "    F.append(min(Ft(P, v), Ftmax(Td)))\n",
    "    \n",
    "plt.figure(figsize=(10,10))\n",
    "plt.plot(V, F, linewidth=3)\n",
    "\n",
    "plt.xlabel('Velocidade [km/h]', size=18)\n",
    "plt.ylabel('Força Tratora [kN]', size=18)\n",
    "plt.grid(True)\n",
    "plt.axis([0, 150, 0, 320])\n",
    "plt.show()"
   ]
  },
  {
   "cell_type": "code",
   "execution_count": 15,
   "metadata": {},
   "outputs": [],
   "source": [
    "data = {'velocidade':V, 'Forca':F}\n",
    "source = DataFrame(data)"
   ]
  },
  {
   "cell_type": "code",
   "execution_count": 23,
   "metadata": {},
   "outputs": [
    {
     "data": {
      "application/vnd.vegalite.v2+json": {
       "$schema": "https://vega.github.io/schema/vega-lite/v2.6.0.json",
       "config": {
        "view": {
         "height": 300,
         "width": 400
        }
       },
       "data": {
        "name": "data-6b7886cc11e1ecec9c1c96cd1dcfdd54"
       },
       "datasets": {
        "data-6b7886cc11e1ecec9c1c96cd1dcfdd54": [
         {
          "Forca": 300,
          "velocidade": 1
         },
         {
          "Forca": 300,
          "velocidade": 2
         },
         {
          "Forca": 300,
          "velocidade": 3
         },
         {
          "Forca": 300,
          "velocidade": 4
         },
         {
          "Forca": 300,
          "velocidade": 5
         },
         {
          "Forca": 300,
          "velocidade": 6
         },
         {
          "Forca": 300,
          "velocidade": 7
         },
         {
          "Forca": 300,
          "velocidade": 8
         },
         {
          "Forca": 300,
          "velocidade": 9
         },
         {
          "Forca": 300,
          "velocidade": 10
         },
         {
          "Forca": 300,
          "velocidade": 11
         },
         {
          "Forca": 300,
          "velocidade": 12
         },
         {
          "Forca": 300,
          "velocidade": 13
         },
         {
          "Forca": 300,
          "velocidade": 14
         },
         {
          "Forca": 300,
          "velocidade": 15
         },
         {
          "Forca": 300,
          "velocidade": 16
         },
         {
          "Forca": 300,
          "velocidade": 17
         },
         {
          "Forca": 300,
          "velocidade": 18
         },
         {
          "Forca": 300,
          "velocidade": 19
         },
         {
          "Forca": 300,
          "velocidade": 20
         },
         {
          "Forca": 300,
          "velocidade": 21
         },
         {
          "Forca": 300,
          "velocidade": 22
         },
         {
          "Forca": 300,
          "velocidade": 23
         },
         {
          "Forca": 300,
          "velocidade": 24
         },
         {
          "Forca": 300,
          "velocidade": 25
         },
         {
          "Forca": 300,
          "velocidade": 26
         },
         {
          "Forca": 300,
          "velocidade": 27
         },
         {
          "Forca": 300,
          "velocidade": 28
         },
         {
          "Forca": 300,
          "velocidade": 29
         },
         {
          "Forca": 291.6,
          "velocidade": 30
         },
         {
          "Forca": 282.19354838709677,
          "velocidade": 31
         },
         {
          "Forca": 273.375,
          "velocidade": 32
         },
         {
          "Forca": 265.09090909090907,
          "velocidade": 33
         },
         {
          "Forca": 257.29411764705884,
          "velocidade": 34
         },
         {
          "Forca": 249.94285714285715,
          "velocidade": 35
         },
         {
          "Forca": 243,
          "velocidade": 36
         },
         {
          "Forca": 236.43243243243242,
          "velocidade": 37
         },
         {
          "Forca": 230.21052631578948,
          "velocidade": 38
         },
         {
          "Forca": 224.30769230769232,
          "velocidade": 39
         },
         {
          "Forca": 218.7,
          "velocidade": 40
         },
         {
          "Forca": 213.3658536585366,
          "velocidade": 41
         },
         {
          "Forca": 208.28571428571428,
          "velocidade": 42
         },
         {
          "Forca": 203.4418604651163,
          "velocidade": 43
         },
         {
          "Forca": 198.8181818181818,
          "velocidade": 44
         },
         {
          "Forca": 194.4,
          "velocidade": 45
         },
         {
          "Forca": 190.17391304347825,
          "velocidade": 46
         },
         {
          "Forca": 186.12765957446808,
          "velocidade": 47
         },
         {
          "Forca": 182.25,
          "velocidade": 48
         },
         {
          "Forca": 178.53061224489795,
          "velocidade": 49
         },
         {
          "Forca": 174.96,
          "velocidade": 50
         },
         {
          "Forca": 171.52941176470588,
          "velocidade": 51
         },
         {
          "Forca": 168.23076923076923,
          "velocidade": 52
         },
         {
          "Forca": 165.0566037735849,
          "velocidade": 53
         },
         {
          "Forca": 162,
          "velocidade": 54
         },
         {
          "Forca": 159.05454545454546,
          "velocidade": 55
         },
         {
          "Forca": 156.21428571428572,
          "velocidade": 56
         },
         {
          "Forca": 153.47368421052633,
          "velocidade": 57
         },
         {
          "Forca": 150.82758620689654,
          "velocidade": 58
         },
         {
          "Forca": 148.27118644067798,
          "velocidade": 59
         },
         {
          "Forca": 145.8,
          "velocidade": 60
         },
         {
          "Forca": 143.40983606557376,
          "velocidade": 61
         },
         {
          "Forca": 141.09677419354838,
          "velocidade": 62
         },
         {
          "Forca": 138.85714285714286,
          "velocidade": 63
         },
         {
          "Forca": 136.6875,
          "velocidade": 64
         },
         {
          "Forca": 134.58461538461538,
          "velocidade": 65
         },
         {
          "Forca": 132.54545454545453,
          "velocidade": 66
         },
         {
          "Forca": 130.56716417910448,
          "velocidade": 67
         },
         {
          "Forca": 128.64705882352942,
          "velocidade": 68
         },
         {
          "Forca": 126.78260869565217,
          "velocidade": 69
         },
         {
          "Forca": 124.97142857142858,
          "velocidade": 70
         },
         {
          "Forca": 123.21126760563381,
          "velocidade": 71
         },
         {
          "Forca": 121.5,
          "velocidade": 72
         },
         {
          "Forca": 119.83561643835617,
          "velocidade": 73
         },
         {
          "Forca": 118.21621621621621,
          "velocidade": 74
         },
         {
          "Forca": 116.64,
          "velocidade": 75
         },
         {
          "Forca": 115.10526315789474,
          "velocidade": 76
         },
         {
          "Forca": 113.6103896103896,
          "velocidade": 77
         },
         {
          "Forca": 112.15384615384616,
          "velocidade": 78
         },
         {
          "Forca": 110.73417721518987,
          "velocidade": 79
         },
         {
          "Forca": 109.35,
          "velocidade": 80
         },
         {
          "Forca": 108,
          "velocidade": 81
         },
         {
          "Forca": 106.6829268292683,
          "velocidade": 82
         },
         {
          "Forca": 105.39759036144578,
          "velocidade": 83
         },
         {
          "Forca": 104.14285714285714,
          "velocidade": 84
         },
         {
          "Forca": 102.91764705882353,
          "velocidade": 85
         },
         {
          "Forca": 101.72093023255815,
          "velocidade": 86
         },
         {
          "Forca": 100.55172413793103,
          "velocidade": 87
         },
         {
          "Forca": 99.4090909090909,
          "velocidade": 88
         },
         {
          "Forca": 98.29213483146067,
          "velocidade": 89
         },
         {
          "Forca": 97.2,
          "velocidade": 90
         },
         {
          "Forca": 96.13186813186813,
          "velocidade": 91
         },
         {
          "Forca": 95.08695652173913,
          "velocidade": 92
         },
         {
          "Forca": 94.06451612903226,
          "velocidade": 93
         },
         {
          "Forca": 93.06382978723404,
          "velocidade": 94
         },
         {
          "Forca": 92.08421052631579,
          "velocidade": 95
         },
         {
          "Forca": 91.125,
          "velocidade": 96
         },
         {
          "Forca": 90.18556701030928,
          "velocidade": 97
         },
         {
          "Forca": 89.26530612244898,
          "velocidade": 98
         },
         {
          "Forca": 88.36363636363636,
          "velocidade": 99
         },
         {
          "Forca": 87.48,
          "velocidade": 100
         },
         {
          "Forca": 86.61386138613861,
          "velocidade": 101
         },
         {
          "Forca": 85.76470588235294,
          "velocidade": 102
         },
         {
          "Forca": 84.93203883495146,
          "velocidade": 103
         },
         {
          "Forca": 84.11538461538461,
          "velocidade": 104
         },
         {
          "Forca": 83.31428571428572,
          "velocidade": 105
         },
         {
          "Forca": 82.52830188679245,
          "velocidade": 106
         },
         {
          "Forca": 81.75700934579439,
          "velocidade": 107
         },
         {
          "Forca": 81,
          "velocidade": 108
         },
         {
          "Forca": 80.25688073394495,
          "velocidade": 109
         },
         {
          "Forca": 79.52727272727273,
          "velocidade": 110
         },
         {
          "Forca": 78.8108108108108,
          "velocidade": 111
         },
         {
          "Forca": 78.10714285714286,
          "velocidade": 112
         },
         {
          "Forca": 77.41592920353982,
          "velocidade": 113
         },
         {
          "Forca": 76.73684210526316,
          "velocidade": 114
         },
         {
          "Forca": 76.0695652173913,
          "velocidade": 115
         },
         {
          "Forca": 75.41379310344827,
          "velocidade": 116
         },
         {
          "Forca": 74.76923076923077,
          "velocidade": 117
         },
         {
          "Forca": 74.13559322033899,
          "velocidade": 118
         },
         {
          "Forca": 73.5126050420168,
          "velocidade": 119
         },
         {
          "Forca": 72.9,
          "velocidade": 120
         },
         {
          "Forca": 72.29752066115702,
          "velocidade": 121
         },
         {
          "Forca": 71.70491803278688,
          "velocidade": 122
         },
         {
          "Forca": 71.1219512195122,
          "velocidade": 123
         },
         {
          "Forca": 70.54838709677419,
          "velocidade": 124
         },
         {
          "Forca": 69.984,
          "velocidade": 125
         },
         {
          "Forca": 69.42857142857143,
          "velocidade": 126
         },
         {
          "Forca": 68.88188976377953,
          "velocidade": 127
         },
         {
          "Forca": 68.34375,
          "velocidade": 128
         },
         {
          "Forca": 67.81395348837209,
          "velocidade": 129
         },
         {
          "Forca": 67.29230769230769,
          "velocidade": 130
         },
         {
          "Forca": 66.77862595419847,
          "velocidade": 131
         },
         {
          "Forca": 66.27272727272727,
          "velocidade": 132
         },
         {
          "Forca": 65.77443609022556,
          "velocidade": 133
         },
         {
          "Forca": 65.28358208955224,
          "velocidade": 134
         },
         {
          "Forca": 64.8,
          "velocidade": 135
         },
         {
          "Forca": 64.32352941176471,
          "velocidade": 136
         },
         {
          "Forca": 63.85401459854015,
          "velocidade": 137
         },
         {
          "Forca": 63.391304347826086,
          "velocidade": 138
         },
         {
          "Forca": 62.935251798561154,
          "velocidade": 139
         },
         {
          "Forca": 62.48571428571429,
          "velocidade": 140
         }
        ]
       },
       "encoding": {
        "tooltip": [
         {
          "field": "velocidade",
          "type": "quantitative"
         },
         {
          "field": "Forca",
          "type": "quantitative"
         }
        ],
        "x": {
         "field": "velocidade",
         "type": "quantitative"
        },
        "y": {
         "field": "Forca",
         "type": "quantitative"
        }
       },
       "mark": {
        "opacity": 0.4,
        "type": "area"
       },
       "selection": {
        "selector002": {
         "bind": "scales",
         "encodings": [
          "x",
          "y"
         ],
         "mark": {
          "fill": "#333",
          "fillOpacity": 0.125,
          "stroke": "white"
         },
         "on": "[mousedown, window:mouseup] > window:mousemove!",
         "resolve": "global",
         "translate": "[mousedown, window:mouseup] > window:mousemove!",
         "type": "interval",
         "zoom": "wheel!"
        }
       }
      },
      "image/png": "[encoded data removed]",
      "text/plain": [
       "<VegaLite 2 object>\n",
       "\n",
       "If you see this message, it means the renderer has not been properly enabled\n",
       "for the frontend that you are using. For more information, see\n",
       "https://altair-viz.github.io/user_guide/troubleshooting.html\n"
      ]
     },
     "execution_count": 23,
     "metadata": {},
     "output_type": "execute_result"
    }
   ],
   "source": [
    "alt.Chart(source).mark_area(opacity=.4).encode(\n",
    "    x='velocidade',\n",
    "    y='Forca',\n",
    "    tooltip=['velocidade','Forca']\n",
    "    ).interactive()"
   ]
  },
  {
   "cell_type": "markdown",
   "metadata": {},
   "source": [
    "---\n",
    "## 3. Resistências ao Movimento"
   ]
  },
  {
   "cell_type": "markdown",
   "metadata": {},
   "source": [
    "Quando uma composição ferroviária encontra-se em movimento, surgem diversas forças contrários ao deslocamento, denominadas de *resistência ao movimento*. As componentes dessa força são derivadas do contato da roda com o trilho, do deslocamento de ar provocado pelo veículo, e a própria ação da gravidade -- que pode dificultar ou facilitar o deslocamento do veículo.\n",
    "\n",
    "A *Resistência Total ao Movimento* $R$ é dada por quatro componentes:\n",
    "\n",
    "$$R = R_{r} + R_{a} + R_{g} + R_{c}$$\n",
    "\n",
    "Sendo:\n",
    "- $R$ : resistência total ao movimento em [N];\n",
    "- $R_{r}$ : resistência ao rolamento em [N];\n",
    "- $R_{a}$ : resistência aerodinâmica em [N];\n",
    "- $R_{g}$ : resistência de rampa em [N};\n",
    "- $R_{c}$ : resistência de curva em [N].\n",
    "\n",
    "Dessas quatro componentes, a Resistência ao Rolamento ($R_{r}$) e a Aerodinâmica ($R_{a}$) **sempre** estão presentes -- essas duas componentes é denominada *Resistência Inerente* ao Movimento ($R_{I} = R_{r} + R_{a}$)."
   ]
  },
  {
   "cell_type": "markdown",
   "metadata": {},
   "source": [
    "### 3.1. Resitência ao rolamento\n",
    "Um abordagem empírica para estimar a resitência ao rolamento foi proposta por William S. Davis Jr., em 1926, e ficou conhecido como a *fórmula de Davis*. Os ensaios foram realizados nos EUA e o modelo pode ser aplicado em qualquer composição ferroviária ou metroviária para estimar a resitência ao rolamento a partir de parâmetros dos veículos, tais como peso, número de eixos e etc.\n",
    "\n",
    "$$R_{r} = \\bigg( c_{1} + \\frac{c_{2} \\cdot x}{G} + c_{3} \\cdot V \\bigg) \\cdot G$$\n",
    "\n",
    "Sendo:\n",
    "- $R_{r}$ : resistência ao rolamento [N];\n",
    "- $x$ : número de eixos da locomotiva ou vagão;\n",
    "- $G$ : peso da locomotiva ou vagão [kN];\n",
    "- $V$ : velocidade [km/h];\n",
    "- $c_{1}$ : coeficiente de deformação da roda e do trilho;\n",
    "- $c_{2}$ : coeficiente do atrito dos mancais;\n",
    "- $c_{3}$ : coeficiente do atrito entre friso das rodas e o trilho.\n",
    "\n",
    "| Coeficiente | Locomotiva e Vagão de Passageiro | Vagão de Carga |\n",
    "| :---------- | :------------------------------- | :------------- |\n",
    "| $c_{1}$ | 0,65 | 0,65 |\n",
    "| $c_{2}$ | 125 | 125 |\n",
    "| $c_{3}$ | 0,009 | 0,013 |\n",
    "\n",
    "\n",
    "### 3.2. Resistência aerodinâmica\n",
    "\n",
    "$$R_{a} = c_{a} \\cdot A \\cdot V^{2}$$\n",
    "\n",
    "Em que:\n",
    "- $R_{a}$ : resistência aerodinâmica [N];\n",
    "- $c_{a}$ : coeficiente aerodinâmico;\n",
    "- $A$ : áerea frontal [m²];\n",
    "- $V$ : velocidade [km/h].\n",
    "\n",
    "|Tipo de veículo | Área [m²] | $c_{a}$ |\n",
    "| :------------- | :-------- | :------ |\n",
    "| Locomotiva de carga | 9,0 - 14,5 | 0,046 |\n",
    "| Locomotiva de passageiros | 9,0 - 11,0 | 0,031 |\n",
    "| Vagão de carga | 7,5 - 8,5 | 0,009 |\n",
    "| Vagão de passageiros | 10,0 - 11,0 | 0,006 |\n",
    "\n",
    "\n",
    "### 3.3. Resistência de rampa\n",
    "$$R_{g} = 10 \\cdot G \\cdot i$$\n",
    "Sendo:\n",
    "- $R_{g}$ : resistência de rampa [N];\n",
    "- $G$ : peso da locomotiva ou vagão [kN];\n",
    "- $i$ : declividade [%].\n",
    "\n",
    "\n",
    "### 3.4. Resistência de curva\n",
    "\n",
    "$$R_{c} = 698 \\cdot \\frac{G}{r}$$\n",
    "Em que:\n",
    "- $R_{c}$ : resistência de curva [N];\n",
    "- $G$ : peso da locomotiva ou vagão [kN];\n",
    "- $r$ : raio de curva [m]."
   ]
  },
  {
   "cell_type": "code",
   "execution_count": 7,
   "metadata": {},
   "outputs": [],
   "source": [
    "'''Funções de Resistencia ao movimento'''\n",
    "# Rolamento\n",
    "def Rr(x, G, V, tipo='locomotiva'):\n",
    "    c1 = 0.65\n",
    "    c2 = 125\n",
    "    if tipo=='carga':\n",
    "        c3 = 0.013\n",
    "    else:\n",
    "        c3 = 0.009\n",
    "        \n",
    "    return (c1 + (c2 * x)/G + c3 * V) * G / 1000 # [kN]\n",
    "\n",
    "def Ra(A, V, tipo='locomotiva'):\n",
    "    if tipo=='locomotiva passageiro':\n",
    "        ca = 0.031\n",
    "    elif tipo == 'carga':\n",
    "        ca = 0.009\n",
    "    elif tipo == 'passageiro':\n",
    "        ca = 0.006\n",
    "    else:\n",
    "        ca = 0.046\n",
    "    return ca * A * V * V / 1000 # [kN]\n",
    "\n",
    "def Rg(G, i):\n",
    "    if i:\n",
    "        return 10 * G * i / 1000 # [kN]\n",
    "    return 0\n",
    "\n",
    "def Rc(G, r):\n",
    "    if r:\n",
    "        return ((698 * G)/r)/1000 # [kN] \n",
    "    return 0"
   ]
  },
  {
   "cell_type": "markdown",
   "metadata": {},
   "source": [
    "---\n",
    "## 4. Exercício"
   ]
  },
  {
   "cell_type": "markdown",
   "metadata": {},
   "source": [
    "Um trem de carga é composto por __**2 locomotivas diesel-elétrica e 40 vagões graneleiros**__.\n",
    "\n",
    "|Locomotiva Diesel-elétrica | Vagão Hopper fechado |\n",
    "| :---: | :----: |\n",
    "| <img src=\"http://www.oocities.org/estrada_de_ferro/f-u26c-406.jpg\" alt=\"Locomotiva Diesel-elétrica\" width=\"400\"> | <img src=\"http://www.boqnews.com/wp-content/uploads/2017/06/rumo-logistica.jpg\" alt=\"Vagão Hopper fechado\" width=\"400\"> |\n",
    "\n",
    "### Locomotiva\n",
    "A locomotiva tem 6 eixos, todos motrizes; seção transversal de 11,5 m²; velocidade mínima de operação contínua (VMOC) de 18 km/h; velocidade máxima de 110 km/h; e eficiência de transmissão $\\eta$ = 0,82. Adote o fator de aderência $f$ = 0,30.\n",
    "\n",
    "Sabendo que $XYZ$ são os três últimos dígitos do número USP, o peso da locomotiva (em kN) é dado por: \n",
    "$$G_{loco} = 1300 - 300 \\cdot e^{-0,0015 \\cdot XYZ}$$\n",
    "\n",
    "E a potência nominal (em hp) da locomotiva é: \n",
    "$$P = 3800 - 600 \\cdot e^{-0,XYZ}$$\n",
    "\n",
    "### Vagões de carga\n",
    "Os vagões para transporte de grãos têm 4 eixos, seção transversal de 8,5 m² e, quando carregados, o peso bruto total (em kN) pode ser estimado por:\n",
    "$$G_{vagao} = 700 + 300 \\cdot e^{-0,0XYZ}$$\n",
    "\n",
    "### Perfil do Trecho\n",
    "\n",
    "O perfil vertical do trecho percorrido pela composição é dado a seguir:\n",
    "\n",
    "<img src=\".\\_imgs\\lista1-trecho.png\" alt=\"Forças Atuantes\" width=\"800\">\n"
   ]
  },
  {
   "cell_type": "code",
   "execution_count": 8,
   "metadata": {},
   "outputs": [],
   "source": [
    "'''Dados locomotiva'''\n",
    "nL = 2\n",
    "xL = 6 #eixos\n",
    "AL = 11.5 #m²\n",
    "GL = 1300 #kN\n",
    "P = 3800 #hp\n",
    "efic = 0.82\n",
    "Vmax = 110 #km/h\n",
    "Vmoc = 18 #km/h\n",
    "fad = 0.3\n",
    "\n",
    "'''Dados vagões'''\n",
    "nV = 40\n",
    "xV = 4\n",
    "AV = 8.5 #m²\n",
    "GV = 1000 #kN"
   ]
  },
  {
   "cell_type": "code",
   "execution_count": 9,
   "metadata": {},
   "outputs": [
    {
     "data": {
      "image/png": "[encoded data removed]",
      "text/plain": [
       "<Figure size 720x720 with 1 Axes>"
      ]
     },
     "metadata": {
      "needs_background": "light"
     },
     "output_type": "display_data"
    }
   ],
   "source": [
    "# parameters of profile\n",
    "i = 0 #%\n",
    "r = 0 #m\n",
    "\n",
    "# list of speeds\n",
    "V = list(range(1,Vmax))\n",
    "F = []\n",
    "R = []\n",
    "\n",
    "\n",
    "for v in V:\n",
    "    F.append( min(Ft(P,v,'hp',efic), Ftmax(GL*nL, fad)) )\n",
    "    RL = Rr(xL, GL, v, 'locomotiva') + Ra(AL, v, 'locomotiva') + Rg(GL, i) + Rc(GL, r)\n",
    "    RV = Rr(xV, GV, v, 'carga') + Ra(AV, v, 'carga') + Rg(GV, i) + Rc(GV, r)\n",
    "    R.append(nL * RL + nV * RV)\n",
    "    \n",
    "\n",
    "# Draw graphic\n",
    "fig, ax = plt.subplots(figsize=(10, 10))\n",
    "ax.plot(V, F, label='Força Total', linewidth=3)\n",
    "ax.plot(V, R, label='Resistência Total', linewidth=3)\n",
    "\n",
    "legend = ax.legend(loc='upper center', shadow=True, fontsize='x-large')\n",
    "\n",
    "plt.xlabel('Velocidade [km/h]', size=18)\n",
    "plt.ylabel('Força Tratora / Resistência [kN]', size=18)\n",
    "plt.grid(True)\n",
    "plt.axis([0, Vmax+10, 0, max(max(F),max(R))+50])\n",
    "plt.show()\n"
   ]
  },
  {
   "cell_type": "code",
   "execution_count": null,
   "metadata": {},
   "outputs": [],
   "source": []
  }
 ],
 "metadata": {
  "kernelspec": {
   "display_name": "Python 3",
   "language": "python",
   "name": "python3"
  },
  "language_info": {
   "codemirror_mode": {
    "name": "ipython",
    "version": 3
   },
   "file_extension": ".py",
   "mimetype": "text/x-python",
   "name": "python",
   "nbconvert_exporter": "python",
   "pygments_lexer": "ipython3",
   "version": "3.7.1"
  }
 },
 "nbformat": 4,
 "nbformat_minor": 2
}
