{
 "cells": [
  {
   "cell_type": "markdown",
   "metadata": {},
   "source": [
    "# STT0408 - Fundamentos de Engenharia de Transportes\n",
    "#### *prof. André Luiz Cunha*\n",
    "---"
   ]
  },
  {
   "cell_type": "markdown",
   "metadata": {},
   "source": [
    "## Índice\n",
    "\n",
    "### [1. Locomoção Veicular](01.00-Locomocao-Veicular.ipynb)\n",
    "\n",
    "   - [Veículos Ferroviários](01.01-Locomocao-Ferroviario.ipynb)\n",
    "   - Veículos Rodoviários\n",
    "    \n",
    "### 2. Engenharia de Tráfego"
   ]
  }
 ],
 "metadata": {
  "kernelspec": {
   "display_name": "Python 3",
   "language": "python",
   "name": "python3"
  },
  "language_info": {
   "codemirror_mode": {
    "name": "ipython",
    "version": 3
   },
   "file_extension": ".py",
   "mimetype": "text/x-python",
   "name": "python",
   "nbconvert_exporter": "python",
   "pygments_lexer": "ipython3",
   "version": "3.7.1"
  }
 },
 "nbformat": 4,
 "nbformat_minor": 2
}
