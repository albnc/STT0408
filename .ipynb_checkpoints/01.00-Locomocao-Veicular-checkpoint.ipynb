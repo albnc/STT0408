{
 "cells": [
  {
   "cell_type": "markdown",
   "metadata": {
    "slideshow": {
     "slide_type": "slide"
    }
   },
   "source": [
    "# Mecânica de Locomoção Veicular\n",
    "---\n",
    "*prof. André Luiz Cunha*"
   ]
  },
  {
   "cell_type": "markdown",
   "metadata": {},
   "source": [
    "## 1. Introdução"
   ]
  },
  {
   "cell_type": "markdown",
   "metadata": {
    "slideshow": {
     "slide_type": "slide"
    }
   },
   "source": [
    "Os princípios básicos que governam a \"Locomoção Veicular\" é proveniente da Física, principalmente conceitos e força e resistência ao movimento. O estudo da Mecânica de Locomoção Veicular tem como objetivo determinar a velocidade de equilíbrio de um determinado veículo, a aceleração, consumo de combustível, eficiência de frenagem e a capacidade de carga. \n",
    "\n",
    "A equação fundamental de movimento é:\n",
    "$$\\vec{F}_{R} = m \\times \\vec{a}$$\n",
    "Sendo: \n",
    "- $\\vec{F}_{R}$ a Força Resultante;\n",
    "- $m$ a massa do veículo;\n",
    "- $\\vec{a}$ a aceleração.\n",
    "\n",
    "\n",
    "Sabe-se que a $\\vec{F}_{R}$ é o somatório das forças envolvidas em cada direção, por exemplo os eixos X, Y e Z. \n",
    "\n",
    "<img src=\".\\_imgs\\forcas.png\" alt=\"Forças Atuantes\" width=\"500\">\n",
    "<!--\n",
    "![Forças Atuantes](\\_imgs\\forcas.png)\n",
    "-->\n",
    "\n",
    "Assim, no sentido do movimento do veículo (eixo X), temos:\n",
    "\n",
    "$$F_{t} - R_{t} = m \\cdot a_{x}$$\n",
    "\n",
    "Sendo: \n",
    "- $F_{t}$ a Força Tratora;\n",
    "- $R_{t}$ a Resistência Total ao movimento;\n",
    "- $a_{x}$ a aceleração no eixo X.\n",
    "\n",
    "Caso a força resultante seja positiva ($F_{t} - R_{t} > 0$), o veículo está acelerando. Caso a resultante seja negativa ($F_{t} - R_{t} < 0$), o veículo desacelera. Se as forças tratora e a resistência total se anularem ($F_{t} = R_{t}$), o veículo encontra-se na velocidade de equilíbrio. Por fim, se as forças forem nulas ($F_{t} = R_{t} = 0$), o veículo está em repouso.\n",
    "\n",
    "\n",
    "No plano perpendicular ao movimento do veículo (eixo Y), tem-se:\n",
    "$$G - N_{1} - N_{2} = m \\cdot a_{y}$$\n",
    "Sendo: \n",
    "- $G$ a força peso do veículo;\n",
    "- $N_{1}$ e $N_{2}$ as forças normais aos eixos do veículo;\n",
    "- $a_{y}$ a aceleração no eixo Y.\n"
   ]
  },
  {
   "cell_type": "markdown",
   "metadata": {
    "slideshow": {
     "slide_type": "slide"
    }
   },
   "source": [
    "---\n",
    "## 2. Força Motriz"
   ]
  },
  {
   "cell_type": "markdown",
   "metadata": {},
   "source": [
    "### 2.1. Trabalho da Força\n",
    "\n",
    "Os veículos usam motores para transformar energia em força, que é usada na propulsão do veículo -- força motriz ou força tratora. O trabalho $W$ realizado por veículo capaz de manter uma força $F$ de propulsão ao longo de uma distância $S$ é expresso como:\n",
    "\n",
    "$$W_{F} = F \\cdot S$$\n",
    "Em que: \n",
    "- $W_{F}$ Trabalho da Força [N.m ou J];\n",
    "- $F$ Força resultante [N];\n",
    "- $S$ deslocamento produzido pela força [m]\n"
   ]
  },
  {
   "cell_type": "markdown",
   "metadata": {},
   "source": [
    "### 2.2. Potência\n",
    "Como a potência $P$ é a derivada do trabalho $W$ em função do tempo, temos que:\n",
    "\n",
    "$$P = \\frac{dW_{F}}{dt} = \\frac{d(F \\cdot S)}{dt} = F \\cdot \\frac{dS}{dt}$$\n",
    "\n",
    "$$P = F \\cdot V$$\n",
    "Em que: \n",
    "- $P$ Potência [N.m/s ou W]\n",
    "- $W_{F}$ Trabalho da Força [N.m ou J];\n",
    "- $F$ Força [N];\n",
    "- $S$ distância [m]\n",
    "- $V$ velocidade [m/s]\n"
   ]
  },
  {
   "cell_type": "markdown",
   "metadata": {},
   "source": [
    "### 2.3. Força\n",
    "Assim, a força motriz, de propulsão ou tratora, é função da potência do motor e a velocidade:\n",
    "\n",
    "$$F_{t} = \\frac{P}{V}$$\n",
    "Sendo: \n",
    "- $F_{t}$ Força tratora [N];\n",
    "- $P$ Potência [N.m/s ou W];\n",
    "- $V$ velocidade [m/s].\n",
    "\n",
    "Pode-se observar que esta equação utiliza unidades do Sistema Internacional de Unidades (S.I.). Para compatilizar as unidades de força em Newtons [N] e a velocidade em [km/h], as seguintes equações são usadas para cada unidade de potência do motor:\n",
    "\n",
    "$$F_{t} = 3600 \\cdot \\frac{P [kW]}{V}$$\n",
    "\n",
    "$$F_{t} = 2685 \\cdot \\frac{P [hp]}{V}$$\n",
    "\n",
    "$$F_{t} = 2649 \\cdot \\frac{P [cv]}{V}$$\n",
    "\n",
    "\n",
    "Entretanto, nem toda a potência do motor de um veículo é usada para a sua locomoção. Uma parte da potência é usada para alimentação de sistemas auxiliares do veículo e outra parte é perdida pela ineficiência inerente aos sistemas mecânicos e elétricos. Dessa forma, é comum utilizar uma constante de *eficiência de transmissão*, que representa a porção da potência do motor efetivamente usada na locomoção. Logo as equações terão a seguinte forma:\n",
    "\n",
    "$$F_{t} = \\eta \\cdot 3600 \\cdot \\frac{P [kW]}{V}$$\n",
    "\n",
    "$$F_{t} = \\eta \\cdot 2685 \\cdot \\frac{P [hp]}{V}$$\n",
    "\n",
    "$$F_{t} = \\eta \\cdot 2649 \\cdot \\frac{P [cv]}{V}$$\n",
    "\n",
    "Em que:\n",
    "- $F_{t}$ é a força tratora em [N];\n",
    "- $P$ é a potência do motor na unidade indicada [W - Watt, hp - horsepower, cv - cavalo-vapor];\n",
    "- $V$ é a velocidade do veículo em [km/h].\n",
    "\n",
    "\n",
    "Dependendo do motor usado no veículo, a constante $\\eta$ pode variar de 0,70 a 0,95."
   ]
  },
  {
   "cell_type": "markdown",
   "metadata": {},
   "source": [
    "---\n",
    "## 3. Resistência ao movimento"
   ]
  },
  {
   "cell_type": "markdown",
   "metadata": {},
   "source": [
    "Quando um veículo encontra-se em movimento, surgem diversas forças contrários ao deslocamento, denominadas de *resistência ao movimento*. As componentes dessa força são derivadas do contato do veículo com a superfície, do deslocamento veicular no meio (ar ou água), e a própria ação da gravidade -- que pode dificultar ou facilitar o deslocamento do veículo.\n",
    "\n",
    "Para o caso de veículos terrestres, a *Resistência Total ao Movimento* $R$ é dada por quatro componentes:\n",
    "\n",
    "$$R = R_{r} + R_{a} + R_{g} + R_{c}$$\n",
    "\n",
    "Sendo:\n",
    "- $R$ resistência total ao movimento em [N];\n",
    "- $R_{r}$ resistência ao rolamento em [N];\n",
    "- $R_{a}$ resistência aerodinâmica em [N];\n",
    "- $R_{g}$ resistência de rampa em [N};\n",
    "- $R_{c}$ resistência de curva em [N].\n",
    "\n",
    "Dessas quatro componentes, a Resistência ao Rolamento ($R_{r}$) e a Aerodinâmica ($R_{a}$) **sempre** estão presentes -- essas duas componentes é denominada *Resistência Inerente* ao Movimento ($R_{I} = R_{r} + R_{a}$).\n",
    "\n",
    "\n",
    "### 3.1. Resistência ao rolamento\n",
    "A resistência ao rolamento reflete o atrito entre a roda do veículo e a superfície de contato, os atritos internos do motor e suas peças, além a deformação da roda. Modelos  matemáticos (simples ou complexos) são capazes de estimar o valor desta componente. A maioria dos modelos consideram o peso ($G$) e a velocidade do veículo ($V$) para o cômputo da resistência:\n",
    "\n",
    "$$R_{r} = f(G, V)$$\n",
    "\n",
    "\n",
    "### 3.2. Resistência aerodinâmica\n",
    "A resistência aerodinâmica surge em função do deslocamento do veículo na atmosfera terrestre, acarretando em deslocamento de ar. Esta componente depende de fatores tais como peso ($G$), a velocidade do veículo ($V$) e a área de seção transversal ($A$). \n",
    "\n",
    "$$R_{a} = f(G, V, A)$$\n",
    "\n",
    "\n",
    "### 3.3. Resistência de rampa\n",
    "A resistência de rampa é causada pela ação da gravidade sobre o veículo, em especial em aclives e declives durante o deslocamento do veículo. Em um aclive, a força peso faz uma resistência contrária ao movimento. Já na descida, o peso do veículo contribui para o aumento da velocidade. Assim, esta componente depende do peso do veículo ($G$) e da inclinação da via ($i$). Em trechos planos, essa resitência não atua.\n",
    "\n",
    "$$R_{g} = f(G, i)$$\n",
    "\n",
    "\n",
    "### 3.4. Resistência de curva\n",
    "A resistência de curva é causada pela força centrífuga quando o veículo realiza uma curva. Especialmente em curvas com superelevação, o veículo pode escorregar para dentro da curva ou tombar para fora dela. Esta componente leva em consideração o peso do veículo ($G$) e o raio da curva ($r$).\n",
    "\n",
    "$$R_{c} = f(G, r)$$"
   ]
  },
  {
   "cell_type": "code",
   "execution_count": null,
   "metadata": {},
   "outputs": [],
   "source": []
  }
 ],
 "metadata": {
  "kernelspec": {
   "display_name": "Python 3",
   "language": "python",
   "name": "python3"
  },
  "language_info": {
   "codemirror_mode": {
    "name": "ipython",
    "version": 3
   },
   "file_extension": ".py",
   "mimetype": "text/x-python",
   "name": "python",
   "nbconvert_exporter": "python",
   "pygments_lexer": "ipython3",
   "version": "3.7.1"
  }
 },
 "nbformat": 4,
 "nbformat_minor": 2
}
